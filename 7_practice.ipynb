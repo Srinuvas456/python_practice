{
 "cells": [
  {
   "cell_type": "markdown",
   "id": "6c47795c-d2ab-4de6-ad08-7df471d9082f",
   "metadata": {},
   "source": [
    "1) Write a program that spawns two threads. One thread should print even numbers between 0 and 10,\n",
    "and the other thread should print odd numbers between 1 and 9."
   ]
  },
  {
   "cell_type": "code",
   "execution_count": 23,
   "id": "49d2ce95-ff4d-4570-9c58-4b17c2f194dc",
   "metadata": {},
   "outputs": [
    {
     "name": "stdout",
     "output_type": "stream",
     "text": [
      "0\n",
      "2\n",
      "4\n",
      "6\n",
      "8\n",
      "10\n",
      "1\n",
      "3\n",
      "5\n",
      "7\n",
      "9\n"
     ]
    }
   ],
   "source": [
    "import threading\n",
    "def print_even():\n",
    "    for i in range(0,11,2):\n",
    "        print(i)\n",
    "def print_odd():\n",
    "    for i in range(1,10,2):\n",
    "        print(i)\n",
    "t1 = threading.Thread(target = print_even)\n",
    "t2 = threading.Thread(target = print_odd)\n",
    "t1.start()\n",
    "t2.start()\n",
    "t1.join()\n",
    "t2.join()\n",
    "        "
   ]
  },
  {
   "cell_type": "markdown",
   "id": "114af2ec-b460-4636-a248-587881a8e955",
   "metadata": {},
   "source": [
    "2) Write a program that generates a list of random numbers and sorts them using multithreading. Use\n",
    "two threads to sort the first half and the second half of the list in parallel."
   ]
  },
  {
   "cell_type": "code",
   "execution_count": 24,
   "id": "8194ef08-d32f-4c93-8946-03c5b5cdcd1e",
   "metadata": {},
   "outputs": [
    {
     "name": "stderr",
     "output_type": "stream",
     "text": [
      "Exception in thread Thread-19 (sort_part):\n",
      "Traceback (most recent call last):\n",
      "  File \"/opt/conda/lib/python3.10/threading.py\", line 1016, in _bootstrap_inner\n",
      "    self.run()\n",
      "  File \"/opt/conda/lib/python3.10/threading.py\", line 953, in run\n",
      "    self._target(*self._args, **self._kwargs)\n",
      "  File \"/tmp/ipykernel_70/3819062523.py\", line 6, in sort_part\n",
      "Exception in thread Thread-20 (sort_part):\n",
      "Traceback (most recent call last):\n",
      "  File \"/opt/conda/lib/python3.10/threading.py\", line 1016, in _bootstrap_inner\n",
      "    self.run()\n",
      "  File \"/opt/conda/lib/python3.10/threading.py\", line 953, in run\n",
      "NameError: name 'numbers' is not defined\n",
      "    self._target(*self._args, **self._kwargs)\n",
      "  File \"/tmp/ipykernel_70/3819062523.py\", line 6, in sort_part\n",
      "NameError: name 'numbers' is not defined\n"
     ]
    },
    {
     "name": "stdout",
     "output_type": "stream",
     "text": [
      "Unsorted numbers: [9, 40, 23, 24, 47, 20, 82, 84, 72, 11]\n"
     ]
    }
   ],
   "source": [
    "import random\n",
    "import threading\n",
    "n = [random.randint(1,100) for i in range(10)]\n",
    "print(f\"Unsorted numbers: {n}\")\n",
    "def sort_part(start, end):\n",
    "    numbers[start:end] = sorted(numbers[start:end])\n",
    "midpoint = len(n) //2\n",
    "t1 = threading.Thread(target=sort_part, args=(0, midpoint))\n",
    "t2 = threading.Thread(target=sort_part, args=(midpoint, len(n)))\n",
    "t1.start()\n",
    "t2.start()\n",
    "t1.join()\n",
    "t2.join()"
   ]
  },
  {
   "cell_type": "markdown",
   "id": "7ec2abb9-4071-4610-aeb8-06d1d7a7be6f",
   "metadata": {},
   "source": [
    "3) Write a program that simulates a bank account transaction. The program should create two threads,\n",
    "one for a deposit and one for a withdrawal. The deposit thread should add\n",
    "100 to the account,and the withdrawal thread should withdraw\n",
    "50 from the account. Run the program for 10 iterations."
   ]
  },
  {
   "cell_type": "code",
   "execution_count": 25,
   "id": "a506d4c7-4a6f-44ec-9962-5d1fd1f69699",
   "metadata": {},
   "outputs": [
    {
     "name": "stdout",
     "output_type": "stream",
     "text": [
      "100\n",
      "200\n",
      "300\n",
      "400\n",
      "500\n",
      "600\n",
      "700\n",
      "800\n",
      "900\n",
      "1000\n",
      "950\n",
      "900\n",
      "850\n",
      "800\n",
      "750\n",
      "700\n",
      "650\n",
      "600\n",
      "550\n",
      "500\n",
      "500\n"
     ]
    }
   ],
   "source": [
    "import threading\n",
    "balance = 0\n",
    "class DepositThread(threading.Thread):\n",
    "    def run(self):\n",
    "        global balance\n",
    "        for i in range(10):\n",
    "            balance += 100\n",
    "            print(balance)\n",
    "class WithdrawalThread(threading.Thread):\n",
    "    def run(self):\n",
    "        global balance\n",
    "        for i in range(10):\n",
    "            balance -= 50\n",
    "            print(balance)\n",
    "deposit_thread = DepositThread()\n",
    "withdrawal_thread = WithdrawalThread()\n",
    "\n",
    "deposit_thread.start()\n",
    "withdrawal_thread.start()\n",
    "\n",
    "deposit_thread.join()\n",
    "withdrawal_thread.join()\n",
    "print(balance)"
   ]
  },
  {
   "cell_type": "markdown",
   "id": "af86ea7c-db4c-4916-9251-c911ebcae8ed",
   "metadata": {},
   "source": [
    "4) Write a Python program that creates a thread to print out the current date and time every 5 seconds.\n",
    "The program should continue running until the user presses the 'q' key."
   ]
  },
  {
   "cell_type": "code",
   "execution_count": 26,
   "id": "963b324c-01f5-47a9-8e49-4fe62fc8bd86",
   "metadata": {},
   "outputs": [
    {
     "ename": "ModuleNotFoundError",
     "evalue": "No module named 'datetme'",
     "output_type": "error",
     "traceback": [
      "\u001b[0;31m---------------------------------------------------------------------------\u001b[0m",
      "\u001b[0;31mModuleNotFoundError\u001b[0m                       Traceback (most recent call last)",
      "Cell \u001b[0;32mIn[26], line 3\u001b[0m\n\u001b[1;32m      1\u001b[0m \u001b[38;5;28;01mimport\u001b[39;00m \u001b[38;5;21;01mthreading\u001b[39;00m\n\u001b[1;32m      2\u001b[0m \u001b[38;5;28;01mimport\u001b[39;00m \u001b[38;5;21;01mtime\u001b[39;00m\n\u001b[0;32m----> 3\u001b[0m \u001b[38;5;28;01mimport\u001b[39;00m \u001b[38;5;21;01mdatetme\u001b[39;00m\n\u001b[1;32m      4\u001b[0m \u001b[38;5;28;01mdef\u001b[39;00m \u001b[38;5;21mprint_time\u001b[39m():\n\u001b[1;32m      5\u001b[0m     \u001b[38;5;28;01mwhile\u001b[39;00m \u001b[38;5;28;01mTrue\u001b[39;00m:\n",
      "\u001b[0;31mModuleNotFoundError\u001b[0m: No module named 'datetme'"
     ]
    }
   ],
   "source": [
    "import threading\n",
    "import time\n",
    "import datetme\n",
    "def print_time():\n",
    "    while True:\n",
    "        print(datetime.datetime.now())\n",
    "        time.sleep(5)\n",
    "t = threading.Thread(target = print_time)\n",
    "t.start()\n",
    "while True:\n",
    "    if input() == 'q':\n",
    "        break\n",
    "t.join()        "
   ]
  },
  {
   "cell_type": "code",
   "execution_count": 5,
   "id": "2e27f006-f3bd-4923-9db9-c11f45c1bd9f",
   "metadata": {},
   "outputs": [
    {
     "name": "stdout",
     "output_type": "stream",
     "text": [
      "Requirement already satisfied: datetime in /opt/conda/lib/python3.10/site-packages (5.1)\n",
      "Requirement already satisfied: zope.interface in /opt/conda/lib/python3.10/site-packages (from datetime) (6.0)\n",
      "Requirement already satisfied: pytz in /opt/conda/lib/python3.10/site-packages (from datetime) (2022.6)\n",
      "Requirement already satisfied: setuptools in /opt/conda/lib/python3.10/site-packages (from zope.interface->datetime) (65.5.1)\n",
      "Note: you may need to restart the kernel to use updated packages.\n"
     ]
    }
   ],
   "source": [
    "pip install datetime"
   ]
  },
  {
   "cell_type": "markdown",
   "id": "86b81282-e8c4-4081-9412-7fab133f0b6d",
   "metadata": {},
   "source": [
    "5) Write a Python program that creates two threads. Each thread should print out the numbers from 1 to\n",
    "10. The two threads should run concurrently and print out the numbers in an interleaved fashion."
   ]
  },
  {
   "cell_type": "code",
   "execution_count": 27,
   "id": "f38437f2-eff8-434f-9353-707c92936ae2",
   "metadata": {},
   "outputs": [
    {
     "name": "stdout",
     "output_type": "stream",
     "text": [
      "1\n",
      "2\n",
      "3\n",
      "4\n",
      "5\n",
      "6\n",
      "7\n",
      "8\n",
      "9\n",
      "10\n",
      "1\n",
      "2\n",
      "3\n",
      "4\n",
      "5\n",
      "6\n",
      "7\n",
      "8\n",
      "9\n",
      "10\n"
     ]
    }
   ],
   "source": [
    "import threading\n",
    "def print_numbers(start,end):\n",
    "    for i in range(start,end+1):\n",
    "        print(i)\n",
    "t1 = threading.Thread(target = print_numbers, args=(1,10)) \n",
    "t2 = threading.Thread(target = print_numbers, args=(1,10)) \n",
    "t1.start()\n",
    "t2.start()\n",
    "t1.join()\n",
    "t2.join()"
   ]
  },
  {
   "cell_type": "markdown",
   "id": "0d2ab8fb-08a2-43b7-b5e6-c40f32678511",
   "metadata": {},
   "source": [
    "6) Write a Python program to create a shared variable between two threads and increment its value in\n",
    "each thread."
   ]
  },
  {
   "cell_type": "code",
   "execution_count": 28,
   "id": "f3c38f0f-4c95-416e-aceb-e3904c5b89a4",
   "metadata": {},
   "outputs": [
    {
     "name": "stdout",
     "output_type": "stream",
     "text": [
      "Thread t1: var = 1\n",
      "Thread t1: var = 2\n",
      "Thread t1: var = 3\n",
      "Thread t1: var = 4\n",
      "Thread t1: var = 5\n",
      "Thread t1: var = 6\n",
      "Thread t1: var = 7\n",
      "Thread t1: var = 8\n",
      "Thread t1: var = 9\n",
      "Thread t2: var = 10\n",
      "Thread t2: var = 11\n",
      "Thread t2: var = 12\n",
      "Thread t2: var = 13\n",
      "Thread t2: var = 14\n",
      "Thread t2: var = 15\n",
      "Thread t2: var = 16\n",
      "Thread t2: var = 17\n",
      "Thread t2: var = 18\n"
     ]
    }
   ],
   "source": [
    "import threading\n",
    "var = 0\n",
    "def increment_var():\n",
    "    global var\n",
    "    for i in range(1,10):\n",
    "        var +=1\n",
    "        print(f\"Thread {threading.current_thread().name}: var = {var}\")\n",
    "t1 = threading.Thread(target = increment_var, name = \"t1\")\n",
    "t2 = threading.Thread(target= increment_var, name =\"t2\")\n",
    "t1.start()\n",
    "t2.start()\n",
    "t1.join()\n",
    "t2.join()"
   ]
  },
  {
   "cell_type": "markdown",
   "id": "dc7d99c7-c500-41fd-9c32-e52a94d798dc",
   "metadata": {},
   "source": [
    "7) Here's a Python program that creates a thread to count down from 5 to 0 and prints \"Blastoff!\" when\n",
    "the count reaches 0:"
   ]
  },
  {
   "cell_type": "code",
   "execution_count": 29,
   "id": "8a735141-0c45-4335-874c-5a8195bb7aeb",
   "metadata": {},
   "outputs": [
    {
     "name": "stdout",
     "output_type": "stream",
     "text": [
      "5\n",
      "Blastoff!\n",
      "4\n",
      "Blastoff!\n",
      "3\n",
      "Blastoff!\n",
      "2\n",
      "Blastoff!\n",
      "1\n",
      "Blastoff!\n",
      "Thread has finished.\n"
     ]
    }
   ],
   "source": [
    "import threading\n",
    "import time\n",
    "def countdown():\n",
    "     for i in range(5, 0, -1):\n",
    "        print(i)\n",
    "        time.sleep(1)\n",
    "        print(\"Blastoff!\")\n",
    "t = threading.Thread(target = countdown)\n",
    "t.start()\n",
    "t.join()\n",
    "print(\"Thread has finished.\")"
   ]
  },
  {
   "cell_type": "markdown",
   "id": "1bc4c076-f8c3-4e9c-bbcb-a36db37a96f9",
   "metadata": {},
   "source": [
    "8) Write a program that creates a thread to print the Fibonacci sequence up to a certain number n. The\n",
    "main thread should prompt the user for the value of n."
   ]
  },
  {
   "cell_type": "code",
   "execution_count": 30,
   "id": "d2ac2772-e6ed-4933-b782-4dd1494d457d",
   "metadata": {},
   "outputs": [
    {
     "name": "stdin",
     "output_type": "stream",
     "text": [
      "enter a number:  4\n"
     ]
    },
    {
     "name": "stdout",
     "output_type": "stream",
     "text": [
      "1\n",
      "1\n",
      "2\n",
      "3\n"
     ]
    }
   ],
   "source": [
    "import threading\n",
    "def fibonacci(n):\n",
    "    fib1 = 0\n",
    "    fib2 = 1\n",
    "    while fib2 <= n:\n",
    "        print(fib2)\n",
    "        fib1, fib2 = fib2, fib1 + fib2\n",
    "n = int(input(\"enter a number: \"))\n",
    "t = threading.Thread(target = fibonacci, args=(n,))\n",
    "t.start()\n",
    "t.join()"
   ]
  },
  {
   "cell_type": "markdown",
   "id": "e5e3f804-6df5-4864-81dc-0b20fbbe16cb",
   "metadata": {},
   "source": [
    "9) Write a program that creates two threads to add and subtract numbers from a shared variable. The\n",
    "shared variable should start at 0, and each thread should perform 10 iterations of adding or subtracting a\n",
    "random integer between 1 and 10. The program should print the final value of the shared variable."
   ]
  },
  {
   "cell_type": "code",
   "execution_count": 33,
   "id": "78507e33-bba3-42a5-9f61-71f06d0b2f61",
   "metadata": {},
   "outputs": [
    {
     "data": {
      "text/plain": [
       "11"
      ]
     },
     "execution_count": 33,
     "metadata": {},
     "output_type": "execute_result"
    }
   ],
   "source": [
    "import threading\n",
    "import random\n",
    "var = 0\n",
    "def variable():\n",
    "    global var\n",
    "    for i in range(10):\n",
    "        var += random.randint(1, 10)\n",
    "def subtract():\n",
    "    global var\n",
    "    for i in range(10):\n",
    "        var -= random.randint(1, 10)\n",
    "t1 = threading.Thread(target= variable)\n",
    "t2 = threading.Thread(target= subtract)\n",
    "t1.start()\n",
    "t2.start()\n",
    "t1.join()\n",
    "t2.join()\n",
    "var"
   ]
  },
  {
   "cell_type": "markdown",
   "id": "5a66b091-6e97-491d-b8d1-2bf1ef853ee9",
   "metadata": {},
   "source": [
    "10) Write a program that creates a thread to calculate the sum of the numbers from 1 to 100 and prints\n",
    "the result."
   ]
  },
  {
   "cell_type": "code",
   "execution_count": 35,
   "id": "6ed8828d-d9df-4284-a2f5-5f805318e96c",
   "metadata": {},
   "outputs": [
    {
     "name": "stdout",
     "output_type": "stream",
     "text": [
      "Sum of numbers from 1 to 100: 5050\n"
     ]
    }
   ],
   "source": [
    "import threading\n",
    "def calculate_sum():\n",
    "    sum = 0\n",
    "    for i in range(1, 101):\n",
    "        sum += i\n",
    "    print(\"Sum of numbers from 1 to 100:\", sum)\n",
    "t = threading.Thread(target=calculate_sum)\n",
    "t.start()\n",
    "t.join()"
   ]
  },
  {
   "cell_type": "code",
   "execution_count": null,
   "id": "d1de8d85-7a32-458e-a830-604ecdb01b16",
   "metadata": {},
   "outputs": [],
   "source": []
  }
 ],
 "metadata": {
  "kernelspec": {
   "display_name": "Python 3 (ipykernel)",
   "language": "python",
   "name": "python3"
  },
  "language_info": {
   "codemirror_mode": {
    "name": "ipython",
    "version": 3
   },
   "file_extension": ".py",
   "mimetype": "text/x-python",
   "name": "python",
   "nbconvert_exporter": "python",
   "pygments_lexer": "ipython3",
   "version": "3.10.8"
  }
 },
 "nbformat": 4,
 "nbformat_minor": 5
}
