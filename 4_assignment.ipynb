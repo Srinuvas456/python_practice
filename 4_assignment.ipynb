{
 "cells": [
  {
   "cell_type": "markdown",
   "id": "0ba5addb-f016-47cd-8714-12153a67efb4",
   "metadata": {},
   "source": [
    "1) Create a class called \"Person\" with properties for \"name\", \"age\", and \"gender\". Create an object of this\n",
    "class and print out its properties."
   ]
  },
  {
   "cell_type": "code",
   "execution_count": 1,
   "id": "d0240255-b834-49b8-b93d-40793594a159",
   "metadata": {},
   "outputs": [
    {
     "name": "stdout",
     "output_type": "stream",
     "text": [
      "Name: Alice\n",
      "Age: 25\n",
      "Gender: female\n"
     ]
    }
   ],
   "source": [
    "class Person:\n",
    "    def __init__(self, name, age, gender):\n",
    "        self.name = name\n",
    "        self.age = age\n",
    "        self.gender = gender\n",
    "\n",
    "person1 = Person(\"Alice\", 25, \"female\")\n",
    "\n",
    "print(\"Name:\", person1.name)\n",
    "print(\"Age:\", person1.age)\n",
    "print(\"Gender:\", person1.gender)"
   ]
  },
  {
   "cell_type": "markdown",
   "id": "e580b57a-773c-464a-8bea-7c17e1655841",
   "metadata": {},
   "source": [
    "2) Write a Python class called \"Rectangle\" with attributes for \"width\" and \"height\". Implement methods\n",
    "to calculate the area and perimeter of the rectangle. Create an instance of this class and use it to print out\n",
    "the rectangle's area and perimeter."
   ]
  },
  {
   "cell_type": "code",
   "execution_count": 1,
   "id": "c28fa01d-4709-4c2b-a7e3-c9496187c993",
   "metadata": {},
   "outputs": [],
   "source": [
    "class Rectangle:\n",
    "    def __init__(self,width,height):\n",
    "        self.width = width\n",
    "        self.height = height\n",
    "    def area(self):\n",
    "        return self.width * self.height\n",
    "    def perimeter(self):\n",
    "        return 2*(self.width + self.height)\n",
    "    "
   ]
  },
  {
   "cell_type": "code",
   "execution_count": 5,
   "id": "3b344258-8092-4997-9a5e-58af0e867abe",
   "metadata": {},
   "outputs": [
    {
     "name": "stdout",
     "output_type": "stream",
     "text": [
      "35\n"
     ]
    },
    {
     "data": {
      "text/plain": [
       "24"
      ]
     },
     "execution_count": 5,
     "metadata": {},
     "output_type": "execute_result"
    }
   ],
   "source": [
    "rectangle = Rectangle(5,7)\n",
    "print(rectangle.area())\n",
    "rectangle.perimeter()"
   ]
  },
  {
   "cell_type": "markdown",
   "id": "88fa23ac-59f7-4bcb-975e-31292b2cbf19",
   "metadata": {},
   "source": [
    "3) Write a Python class called \"BankAccount\" with attributes for \"balance\" and \"interest_rate\".\n",
    "Implement methods to deposit and withdraw money from the account, as well as to calculate the interest\n",
    "earned on the balance based on the interest rate. Create an instance of this class and use it to test out the\n",
    "implemented methods for deposit, withdrawal, and interest calculation."
   ]
  },
  {
   "cell_type": "code",
   "execution_count": 6,
   "id": "7a6b8614-84e1-4b05-a050-f4cb0b948ac0",
   "metadata": {},
   "outputs": [],
   "source": [
    "class BankAccount:\n",
    "    def __init__(self,balance,intrest_rate):\n",
    "        self.balance = balance\n",
    "        self.intrest_rate = intrest_rate\n",
    "    def deposit(self,amount):\n",
    "        self.balance += amount\n",
    "    def withdraw(self,amount):\n",
    "        if self.balance > amount:\n",
    "            self.balance -= amount\n",
    "        else:\n",
    "            print(\"Insufficient funds\")\n",
    "    def calculate_intrest(self):\n",
    "        return self.balance *(self.intrest_rate /100)\n",
    "        \n"
   ]
  },
  {
   "cell_type": "code",
   "execution_count": 7,
   "id": "4bba090a-f38d-49dd-9dbf-b22e15534f30",
   "metadata": {},
   "outputs": [],
   "source": [
    "account = BankAccount(1000,5)"
   ]
  },
  {
   "cell_type": "code",
   "execution_count": 8,
   "id": "e8b8ef3d-ecd8-45d7-bca7-9c86d1b2338e",
   "metadata": {},
   "outputs": [],
   "source": [
    "account.deposit(2000)"
   ]
  },
  {
   "cell_type": "code",
   "execution_count": 10,
   "id": "3ce29860-dcb7-4843-b146-9fd76c1e9751",
   "metadata": {},
   "outputs": [
    {
     "data": {
      "text/plain": [
       "3000"
      ]
     },
     "execution_count": 10,
     "metadata": {},
     "output_type": "execute_result"
    }
   ],
   "source": [
    "account.balance"
   ]
  },
  {
   "cell_type": "code",
   "execution_count": 11,
   "id": "25896383-cb10-4240-a88c-062ee8d56f78",
   "metadata": {},
   "outputs": [],
   "source": [
    "account.withdraw(500)"
   ]
  },
  {
   "cell_type": "code",
   "execution_count": 12,
   "id": "2329116f-aba5-44c3-a942-6da60fbb3b5f",
   "metadata": {},
   "outputs": [
    {
     "data": {
      "text/plain": [
       "2500"
      ]
     },
     "execution_count": 12,
     "metadata": {},
     "output_type": "execute_result"
    }
   ],
   "source": [
    "account.balance"
   ]
  },
  {
   "cell_type": "code",
   "execution_count": 13,
   "id": "774104d1-9dc5-4dc9-bb33-7bc7c66172ff",
   "metadata": {},
   "outputs": [
    {
     "data": {
      "text/plain": [
       "125.0"
      ]
     },
     "execution_count": 13,
     "metadata": {},
     "output_type": "execute_result"
    }
   ],
   "source": [
    "account.calculate_intrest()"
   ]
  },
  {
   "cell_type": "markdown",
   "id": "58e44255-6ea2-48fb-9a00-a00e590f712c",
   "metadata": {},
   "source": [
    "4) Write a Python class called \"Animal\" with attributes for \"name\" and \"species\". Create a subclass of\n",
    "\"Animal\" called \"Dog\" with additional attributes for \"breed\" and \"owner\". Implement both classes with\n",
    "appropriate methods and constructors to initialise their properties. Create instances of both classes and\n",
    "use them to print out the various properties of the animals and dogs, such as their names, species,\n",
    "breeds, and owners."
   ]
  },
  {
   "cell_type": "code",
   "execution_count": 22,
   "id": "a0ca0074-962a-464b-bfb3-4107565a76ff",
   "metadata": {},
   "outputs": [],
   "source": [
    "class Animal:\n",
    "    def __init__(self,name,species):\n",
    "        self.name = name\n",
    "        self.species = species\n",
    "    def get_name(self):\n",
    "        return self.name\n",
    "\n",
    "    def get_species(self):\n",
    "        return self.species\n",
    "class Dog(Animal):\n",
    "    def __init__(self, name, species,breed, owner):\n",
    "        super().__init__(name,species)\n",
    "        self.breed = breed\n",
    "        self.owner = owner\n",
    "    def get_breed(self):\n",
    "        return self.breed\n",
    "    def get_owner(self):\n",
    "        return self.owner\n",
    "        "
   ]
  },
  {
   "cell_type": "code",
   "execution_count": 23,
   "id": "d4f70a7f-57f6-4fea-913d-dbd25ce85f25",
   "metadata": {},
   "outputs": [
    {
     "name": "stdout",
     "output_type": "stream",
     "text": [
      "Lion\n"
     ]
    },
    {
     "data": {
      "text/plain": [
       "'Panthera leo'"
      ]
     },
     "execution_count": 23,
     "metadata": {},
     "output_type": "execute_result"
    }
   ],
   "source": [
    "animal = Animal(\"Lion\",\"Panthera leo\")\n",
    "print(animal.get_name())\n",
    "animal.get_species()\n",
    "\n"
   ]
  },
  {
   "cell_type": "code",
   "execution_count": 24,
   "id": "134c8fa9-76d3-4b48-8816-1353fe2cd34a",
   "metadata": {},
   "outputs": [],
   "source": [
    "dog = Dog(\"Max\", \"Canis lupus familiaris\", \"Labrador Retriever\", \"John\")"
   ]
  },
  {
   "cell_type": "code",
   "execution_count": 25,
   "id": "c935b6d2-3414-428d-93bf-ea81f0df6f2b",
   "metadata": {},
   "outputs": [
    {
     "data": {
      "text/plain": [
       "'Max'"
      ]
     },
     "execution_count": 25,
     "metadata": {},
     "output_type": "execute_result"
    }
   ],
   "source": [
    "dog.get_name()"
   ]
  },
  {
   "cell_type": "code",
   "execution_count": 27,
   "id": "1edc0af2-8591-4519-9a47-346e67423b0e",
   "metadata": {},
   "outputs": [
    {
     "data": {
      "text/plain": [
       "'Labrador Retriever'"
      ]
     },
     "execution_count": 27,
     "metadata": {},
     "output_type": "execute_result"
    }
   ],
   "source": [
    "dog.get_breed()"
   ]
  },
  {
   "cell_type": "markdown",
   "id": "a52ffc4c-05f9-47b9-9443-51a2e6d4295e",
   "metadata": {},
   "source": [
    "5) Create a class called \"Car\" with properties for \"make\", \"model\", and \"year\". Create a subclass of \"Car\"\n",
    "called \"ElectricCar\" with additional properties for \"battery_size\" and \"range\". Create objects of both\n",
    "classes and print out their properties."
   ]
  },
  {
   "cell_type": "code",
   "execution_count": 28,
   "id": "7d681536-ef33-4ca8-acd5-128854ac9fac",
   "metadata": {},
   "outputs": [],
   "source": [
    "class Car:\n",
    "    def __init__(self,make,model,year):\n",
    "        self.make= make\n",
    "        self.model = model\n",
    "        self.year = year\n",
    "class ElectricCar(Car):\n",
    "    def __init__(self,make,model,year,battery_size,range):\n",
    "        super().__init__(make,model,year)\n",
    "        self.battery_size = battery_size\n",
    "        self.range =range\n",
    "        "
   ]
  },
  {
   "cell_type": "code",
   "execution_count": 29,
   "id": "a179af60-0d90-445d-b145-769d093b400c",
   "metadata": {},
   "outputs": [
    {
     "data": {
      "text/plain": [
       "'Toyato'"
      ]
     },
     "execution_count": 29,
     "metadata": {},
     "output_type": "execute_result"
    }
   ],
   "source": [
    "car1 = Car(\"Toyato\",\"Corolla\",2021)\n",
    "car1.make\n"
   ]
  },
  {
   "cell_type": "code",
   "execution_count": 30,
   "id": "47fc5692-5bd8-4e62-a417-dd1f55230174",
   "metadata": {},
   "outputs": [
    {
     "data": {
      "text/plain": [
       "'Corolla'"
      ]
     },
     "execution_count": 30,
     "metadata": {},
     "output_type": "execute_result"
    }
   ],
   "source": [
    "car1.model"
   ]
  },
  {
   "cell_type": "code",
   "execution_count": 31,
   "id": "66aadc31-6e00-4e58-b261-5d87932eb850",
   "metadata": {},
   "outputs": [
    {
     "data": {
      "text/plain": [
       "2021"
      ]
     },
     "execution_count": 31,
     "metadata": {},
     "output_type": "execute_result"
    }
   ],
   "source": [
    "car1.year"
   ]
  },
  {
   "cell_type": "code",
   "execution_count": 32,
   "id": "bf239bce-9a4d-441c-9286-c7bb07a17b91",
   "metadata": {},
   "outputs": [],
   "source": [
    "car2 = ElectricCar(\"Tesla\", \"Model S\", 2022, 100, 400)"
   ]
  },
  {
   "cell_type": "code",
   "execution_count": 33,
   "id": "dc0c1bf2-ca96-4e0a-ae0f-d37481a88f57",
   "metadata": {},
   "outputs": [
    {
     "data": {
      "text/plain": [
       "2022"
      ]
     },
     "execution_count": 33,
     "metadata": {},
     "output_type": "execute_result"
    }
   ],
   "source": [
    "car2.year\n"
   ]
  },
  {
   "cell_type": "code",
   "execution_count": 34,
   "id": "85e426e4-9a8a-421d-bc49-4b0e7af27fdc",
   "metadata": {},
   "outputs": [
    {
     "data": {
      "text/plain": [
       "'Tesla'"
      ]
     },
     "execution_count": 34,
     "metadata": {},
     "output_type": "execute_result"
    }
   ],
   "source": [
    "car2.make"
   ]
  },
  {
   "cell_type": "code",
   "execution_count": 35,
   "id": "f4c884f1-c34a-4c5a-a0dd-a236675fb7fe",
   "metadata": {},
   "outputs": [
    {
     "data": {
      "text/plain": [
       "100"
      ]
     },
     "execution_count": 35,
     "metadata": {},
     "output_type": "execute_result"
    }
   ],
   "source": [
    "car2.battery_size"
   ]
  },
  {
   "cell_type": "markdown",
   "id": "bb6a2fa4-96af-4a5a-8034-e9c5f0ddcde9",
   "metadata": {},
   "source": [
    "6) Create a class called \"Student\" with properties for \"name\" and \"id\". Create a subclass of \"Student\"\n",
    "called \"GraduateStudent\" with additional properties for \"advisor\" and \"research_area\". Create objects of\n",
    "both classes and print out their properties."
   ]
  },
  {
   "cell_type": "code",
   "execution_count": 44,
   "id": "db7f804e-e0b5-491a-84a2-5c7cbe67a341",
   "metadata": {},
   "outputs": [],
   "source": [
    "class Student:\n",
    "    def __init__(self,name,id):\n",
    "        self.name = name\n",
    "        self.id = id\n",
    "class GraduateStudent(Student):\n",
    "    def __init__(self,name,id,advisor,research_rate):\n",
    "        super().__init__(name,id)\n",
    "        self.advisor = advisor\n",
    "        self.intrest_rate = research_rate\n",
    "        "
   ]
  },
  {
   "cell_type": "code",
   "execution_count": 45,
   "id": "452423fb-b63e-417d-9880-c47cb8d17b70",
   "metadata": {},
   "outputs": [
    {
     "data": {
      "text/plain": [
       "'Srinu'"
      ]
     },
     "execution_count": 45,
     "metadata": {},
     "output_type": "execute_result"
    }
   ],
   "source": [
    "student1 = Student(\"Srinu\",11704926)\n",
    "student1.name"
   ]
  },
  {
   "cell_type": "code",
   "execution_count": 46,
   "id": "65b44658-ed69-45c7-b81d-317ab890de82",
   "metadata": {},
   "outputs": [
    {
     "data": {
      "text/plain": [
       "11704926"
      ]
     },
     "execution_count": 46,
     "metadata": {},
     "output_type": "execute_result"
    }
   ],
   "source": [
    "student1.id"
   ]
  },
  {
   "cell_type": "code",
   "execution_count": 47,
   "id": "1cc29f48-c064-48a6-9c0c-02db2cc4db73",
   "metadata": {},
   "outputs": [
    {
     "data": {
      "text/plain": [
       "'Naveen'"
      ]
     },
     "execution_count": 47,
     "metadata": {},
     "output_type": "execute_result"
    }
   ],
   "source": [
    "student2 = GraduateStudent(\"Naveen\",11704912,\"ravi\",\"80%\")\n",
    "student2.name"
   ]
  },
  {
   "cell_type": "markdown",
   "id": "4567402d-78b6-4b30-8616-5f2de439cfd7",
   "metadata": {},
   "source": [
    "7) Create a class called \"Shape\" with methods to calculate the area and perimeter of the shape. Create\n",
    "subclasses of \"Shape\" for \"Rectangle\", \"Circle\", and \"Triangle\" with their own methods for calculating area\n",
    "and perimeter. Create objects of each class and print out their area and perimeter."
   ]
  },
  {
   "cell_type": "code",
   "execution_count": 48,
   "id": "6e57c5a7-6ce4-46da-8ea6-20cfc64b7bc0",
   "metadata": {},
   "outputs": [],
   "source": [
    "import math\n",
    "class Shape:\n",
    "    def area(self):\n",
    "        pass\n",
    "    def perimeter(self):\n",
    "        pass\n",
    "class Rectangle(Shape):\n",
    "    def __init__(self,length,width):\n",
    "        self.length = length\n",
    "        self.width = width\n",
    "    def area(self):\n",
    "        return self.length * self.width\n",
    "    def perimeter(self):\n",
    "        return 2*(self.width + self.length)\n",
    "class Circle(Shape):\n",
    "    def __init__(self, radius):\n",
    "        self.radius = radius\n",
    "    \n",
    "    def area(self):\n",
    "        return math.pi * self.radius ** 2\n",
    "    \n",
    "    def perimeter(self):\n",
    "        return 2 * math.pi * self.radius\n",
    "\n",
    "class Triangle(Shape):\n",
    "    def __init__(self, base, height, side1, side2, side3):\n",
    "        self.base = base\n",
    "        self.height = height\n",
    "        self.side1 = side1\n",
    "        self.side2 = side2\n",
    "        self.side3 = side3\n",
    "    \n",
    "    def area(self):\n",
    "        return 0.5 * self.base * self.height\n",
    "    def perimeter(self):\n",
    "        return self.side1 + self.side2 + self.side3"
   ]
  },
  {
   "cell_type": "code",
   "execution_count": 49,
   "id": "25d75271-26c6-4420-b08f-706a396a2886",
   "metadata": {},
   "outputs": [],
   "source": [
    "rectangle1 = Rectangle(5,7)"
   ]
  },
  {
   "cell_type": "code",
   "execution_count": 51,
   "id": "a8dd9d08-5a52-49df-b3d3-14fdfc5f8e27",
   "metadata": {},
   "outputs": [
    {
     "data": {
      "text/plain": [
       "35"
      ]
     },
     "execution_count": 51,
     "metadata": {},
     "output_type": "execute_result"
    }
   ],
   "source": [
    "rectangle.area()"
   ]
  },
  {
   "cell_type": "code",
   "execution_count": 52,
   "id": "df701f89-8914-4f0e-9e19-60a47bc9869b",
   "metadata": {},
   "outputs": [
    {
     "data": {
      "text/plain": [
       "24"
      ]
     },
     "execution_count": 52,
     "metadata": {},
     "output_type": "execute_result"
    }
   ],
   "source": [
    "rectangle.perimeter()"
   ]
  },
  {
   "cell_type": "code",
   "execution_count": 53,
   "id": "ee29dfe8-3334-480c-b7fc-8a66d45eb63b",
   "metadata": {},
   "outputs": [],
   "source": [
    "circle1 = Circle(3)"
   ]
  },
  {
   "cell_type": "code",
   "execution_count": 54,
   "id": "7c84b510-8822-483d-893d-4c35047c1016",
   "metadata": {},
   "outputs": [
    {
     "data": {
      "text/plain": [
       "28.274333882308138"
      ]
     },
     "execution_count": 54,
     "metadata": {},
     "output_type": "execute_result"
    }
   ],
   "source": [
    "circle1.area()"
   ]
  },
  {
   "cell_type": "code",
   "execution_count": 55,
   "id": "1d4996e4-ee87-4635-b4f3-97ab3680fb8c",
   "metadata": {},
   "outputs": [
    {
     "data": {
      "text/plain": [
       "18.84955592153876"
      ]
     },
     "execution_count": 55,
     "metadata": {},
     "output_type": "execute_result"
    }
   ],
   "source": [
    "circle1.perimeter()"
   ]
  },
  {
   "cell_type": "code",
   "execution_count": 56,
   "id": "ad4cabc8-fd1b-458f-9b47-e3c1ca9daabb",
   "metadata": {},
   "outputs": [],
   "source": [
    "triangle1 = Triangle(4,5,3,4,5)\n"
   ]
  },
  {
   "cell_type": "code",
   "execution_count": 58,
   "id": "99604457-b200-454c-bc01-8a75d5e76aae",
   "metadata": {},
   "outputs": [
    {
     "data": {
      "text/plain": [
       "10.0"
      ]
     },
     "execution_count": 58,
     "metadata": {},
     "output_type": "execute_result"
    }
   ],
   "source": [
    "triangle1.area()"
   ]
  },
  {
   "cell_type": "markdown",
   "id": "00fd6283-04e5-4ab8-bd1a-8fb38e08974e",
   "metadata": {},
   "source": [
    "8) Create a class called \"Employee\" with properties for \"name\", \"id\", and \"salary\". Add methods to give\n",
    "the employee a raise and to calculate their annual salary. Create objects of this class and test out the\n",
    "methods."
   ]
  },
  {
   "cell_type": "code",
   "execution_count": 59,
   "id": "4d8a5ed3-2192-40d5-b40a-fe685e69a803",
   "metadata": {},
   "outputs": [],
   "source": [
    "class Employee:\n",
    "    def __init__(self,name,id,salary):\n",
    "        self.name = name\n",
    "        self.id = id\n",
    "        self.salary = salary\n",
    "    def give_raise(self, amount):\n",
    "        self.salary +=amount\n",
    "    def annual_salary(self):\n",
    "        return self.salary*12"
   ]
  },
  {
   "cell_type": "code",
   "execution_count": 60,
   "id": "9f1df7f2-1ca9-49b4-9274-e35eadea4013",
   "metadata": {},
   "outputs": [],
   "source": [
    "emp1 = Employee(\"Srinu\",11704926,50000)"
   ]
  },
  {
   "cell_type": "code",
   "execution_count": 61,
   "id": "89dce79f-cfea-414e-9393-58469f370240",
   "metadata": {},
   "outputs": [
    {
     "data": {
      "text/plain": [
       "50000"
      ]
     },
     "execution_count": 61,
     "metadata": {},
     "output_type": "execute_result"
    }
   ],
   "source": [
    "emp1.salary"
   ]
  },
  {
   "cell_type": "code",
   "execution_count": 62,
   "id": "0594d020-a846-493d-90ae-93203af76bc5",
   "metadata": {},
   "outputs": [],
   "source": [
    "emp1.give_raise(10000)"
   ]
  },
  {
   "cell_type": "code",
   "execution_count": 63,
   "id": "c22772c7-f83d-46a4-b24e-97166bba2689",
   "metadata": {},
   "outputs": [
    {
     "data": {
      "text/plain": [
       "60000"
      ]
     },
     "execution_count": 63,
     "metadata": {},
     "output_type": "execute_result"
    }
   ],
   "source": [
    "emp1.salary"
   ]
  },
  {
   "cell_type": "code",
   "execution_count": 65,
   "id": "1804023d-2423-4fd3-98d7-12ec99534f64",
   "metadata": {},
   "outputs": [
    {
     "data": {
      "text/plain": [
       "720000"
      ]
     },
     "execution_count": 65,
     "metadata": {},
     "output_type": "execute_result"
    }
   ],
   "source": [
    "emp1.annual_salary()"
   ]
  },
  {
   "cell_type": "markdown",
   "id": "4618ff11-97d6-48b4-8ff0-81d2c99d6f51",
   "metadata": {},
   "source": [
    "9) Create a class called \"Book\" with properties for \"title\", \"author\", and \"publisher\". Create a subclass of\n",
    "\"Book\" called \"Ebook\" with additional properties for \"file_format\" and \"file_size\". Create objects of both\n",
    "classes and print out their properties."
   ]
  },
  {
   "cell_type": "code",
   "execution_count": 70,
   "id": "983f888d-63ff-408a-8450-9cd8c09c1a9f",
   "metadata": {},
   "outputs": [],
   "source": [
    "class Book:\n",
    "    def __init__(self,title,author,publisher):\n",
    "        self.title = title\n",
    "        self.author = author\n",
    "        self.publisher = publisher\n",
    "class Ebook(Book):\n",
    "    def __init__(self,title,author,publisher,file_format,file_size):\n",
    "        super().__init__(title,author,publisher)\n",
    "        self.file_format = file_format\n",
    "        self.file_size = file_size\n",
    "        \n",
    "        "
   ]
  },
  {
   "cell_type": "code",
   "execution_count": 67,
   "id": "007ebd9a-5cf7-439c-8afd-cf62fa43f25c",
   "metadata": {},
   "outputs": [
    {
     "data": {
      "text/plain": [
       "'Data_Science'"
      ]
     },
     "execution_count": 67,
     "metadata": {},
     "output_type": "execute_result"
    }
   ],
   "source": [
    "book1 = Book(\"Data_Science\",\"Srinu\",\"Ramo\")\n",
    "book1.title"
   ]
  },
  {
   "cell_type": "code",
   "execution_count": 68,
   "id": "2cb5de4a-267f-4a8a-8075-707bf6fdcb64",
   "metadata": {},
   "outputs": [
    {
     "data": {
      "text/plain": [
       "'Srinu'"
      ]
     },
     "execution_count": 68,
     "metadata": {},
     "output_type": "execute_result"
    }
   ],
   "source": [
    "book1.author"
   ]
  },
  {
   "cell_type": "code",
   "execution_count": 71,
   "id": "47033d48-487b-4c4a-8565-83b156b1448c",
   "metadata": {},
   "outputs": [],
   "source": [
    "book2 = Ebook(\"Dat_Science\",\"Srinu\",\"Ramo\",\"free.py\",\"324kb\")"
   ]
  },
  {
   "cell_type": "code",
   "execution_count": 73,
   "id": "30185ad2-9442-4c1a-a5f3-000fa9de2d16",
   "metadata": {},
   "outputs": [
    {
     "data": {
      "text/plain": [
       "'Dat_Science'"
      ]
     },
     "execution_count": 73,
     "metadata": {},
     "output_type": "execute_result"
    }
   ],
   "source": [
    "book2.title"
   ]
  },
  {
   "cell_type": "markdown",
   "id": "6e5a793a-6dfe-4f25-b79a-a3fa8b4988bd",
   "metadata": {},
   "source": [
    "10) Create a class called \"Bank\" with properties for \"name\" and \"accounts\". Add methods to create new\n",
    "accounts, deposit and withdraw money from accounts, and to calculate the total balance of all accounts.\n",
    "Create an object of this class and test out the methods."
   ]
  },
  {
   "cell_type": "code",
   "execution_count": 74,
   "id": "27313128-bfe4-4f0a-9e05-ec3092b725de",
   "metadata": {},
   "outputs": [],
   "source": [
    "class Bank:\n",
    "    def __init__(self,name):\n",
    "        self.name = name\n",
    "        self.accounts = {}\n",
    "    def create_account(self, account_number, initial_balance=0):\n",
    "        if account_number not in self.accounts:\n",
    "            self.accounts[account_number] = initial_balance\n",
    "        else:\n",
    "            print(\"Account already exists\")\n",
    "\n",
    "    def deposit(self, account_number, amount):\n",
    "        if account_number in self.accounts:\n",
    "            self.accounts[account_number] += amount\n",
    "        else:\n",
    "            print(\"Account does not exist\")\n",
    "\n",
    "    def withdraw(self, account_number, amount):\n",
    "        if account_number in self.accounts:\n",
    "            if self.accounts[account_number] >= amount:\n",
    "                self.accounts[account_number] -= amount\n",
    "            else:\n",
    "                print(\"Insufficient balance\")\n",
    "        else:\n",
    "            print(\"Account does not exist\")\n",
    "\n",
    "    def total_balance(self):\n",
    "        return sum(self.accounts.values())\n",
    "        "
   ]
  },
  {
   "cell_type": "code",
   "execution_count": 75,
   "id": "cf1df051-ae2e-41fc-beae-12e698089793",
   "metadata": {},
   "outputs": [],
   "source": [
    "my_bank = Bank(\"My Bank\")\n",
    "\n",
    "my_bank.create_account(\"123456\", 1000)\n",
    "my_bank.create_account(\"789012\", 500)\n",
    "\n",
    "my_bank.deposit(\"123456\", 500)\n",
    "my_bank.withdraw(\"789012\", 200)"
   ]
  },
  {
   "cell_type": "code",
   "execution_count": 77,
   "id": "0136a7d2-fa8b-418d-8fe9-2dc61456bfd0",
   "metadata": {},
   "outputs": [
    {
     "data": {
      "text/plain": [
       "1800"
      ]
     },
     "execution_count": 77,
     "metadata": {},
     "output_type": "execute_result"
    }
   ],
   "source": [
    "my_bank.total_balance()"
   ]
  },
  {
   "cell_type": "code",
   "execution_count": null,
   "id": "e603b386-7180-4403-b0a3-15455c7765ba",
   "metadata": {},
   "outputs": [],
   "source": []
  }
 ],
 "metadata": {
  "kernelspec": {
   "display_name": "Python 3 (ipykernel)",
   "language": "python",
   "name": "python3"
  },
  "language_info": {
   "codemirror_mode": {
    "name": "ipython",
    "version": 3
   },
   "file_extension": ".py",
   "mimetype": "text/x-python",
   "name": "python",
   "nbconvert_exporter": "python",
   "pygments_lexer": "ipython3",
   "version": "3.10.8"
  }
 },
 "nbformat": 4,
 "nbformat_minor": 5
}
