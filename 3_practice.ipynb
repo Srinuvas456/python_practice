{
 "cells": [
  {
   "cell_type": "markdown",
   "id": "06cb94b8-a92f-4fa1-ae34-b5937e121082",
   "metadata": {},
   "source": [
    "1) Create a dictionary called fruits with the following key-value pairs:\n",
    "\"apple\": 0.75\n",
    "\"banana\": 1.25\n",
    "\"orange\": 0.90\n",
    "Then, print out the price of a banana."
   ]
  },
  {
   "cell_type": "code",
   "execution_count": 1,
   "id": "2156571b-7978-4017-b950-4de2c1969964",
   "metadata": {},
   "outputs": [
    {
     "data": {
      "text/plain": [
       "1.25"
      ]
     },
     "execution_count": 1,
     "metadata": {},
     "output_type": "execute_result"
    }
   ],
   "source": [
    "fruits = {\"apple\": 0.75, \"banana\": 1.25, \"orange\": 0.90}\n",
    "fruits['banana']"
   ]
  },
  {
   "cell_type": "markdown",
   "id": "a641a696-a860-4c6b-80b5-41323b4b009a",
   "metadata": {},
   "source": [
    "2) Create an empty dictionary called ages. Add the following key-value pairs to the dictionary:\n",
    "\"Alice\": 30\n",
    "\"Bob\": 25\n",
    "\"Charlie\": 35\n",
    "Then, print out the age of Charlie."
   ]
  },
  {
   "cell_type": "code",
   "execution_count": 2,
   "id": "4ed1fa39-07db-4ac1-9001-f09295680aaf",
   "metadata": {},
   "outputs": [
    {
     "data": {
      "text/plain": [
       "35"
      ]
     },
     "execution_count": 2,
     "metadata": {},
     "output_type": "execute_result"
    }
   ],
   "source": [
    "age = {\"Alice\":30,\"Bob\":25,\"Charlie\":35}\n",
    "age['Charlie']"
   ]
  },
  {
   "cell_type": "markdown",
   "id": "f1af9251-76ba-4b21-b5c4-15df01a8f817",
   "metadata": {},
   "source": [
    "3) Write a function called word_count(text) that takes a string as input and returns a dictionary where\n",
    "each key is a word in the text and its value is the number of times that word appears in the text. For\n",
    "example, word_count(\"hello world hello\") should return {\"hello\": 2, \"world\": 1}."
   ]
  },
  {
   "cell_type": "code",
   "execution_count": 3,
   "id": "fae0c7a1-ee53-40e9-b50a-b71f7ddbeca8",
   "metadata": {},
   "outputs": [],
   "source": [
    "def word_count(text):\n",
    "    word_counts = {}\n",
    "    words = text.split()\n",
    "    for word in words:\n",
    "        if word in word_counts:\n",
    "            word_counts[word] +=1\n",
    "        else:\n",
    "            word_counts[word] =1\n",
    "    return word_counts        "
   ]
  },
  {
   "cell_type": "code",
   "execution_count": 4,
   "id": "d6d51ba4-d1bf-410e-b4d1-fb85761b03d2",
   "metadata": {},
   "outputs": [
    {
     "data": {
      "text/plain": [
       "{'hello': 2, 'world': 1}"
      ]
     },
     "execution_count": 4,
     "metadata": {},
     "output_type": "execute_result"
    }
   ],
   "source": [
    "text = \"hello world hello\"\n",
    "counts = word_count(text)\n",
    "counts"
   ]
  },
  {
   "cell_type": "markdown",
   "id": "12e796af-9ed2-4658-b68b-9d70c0b6ccfe",
   "metadata": {},
   "source": [
    "4) Create a dictionary called phone_book with the following key-value pairs:\n",
    "\"Alice\": \"555-1234\"\n",
    "\"Bob\": \"555-5678\"\n",
    "\"Charlie\": \"555-9012\"\n",
    "Then, prompt the user to enter a name and print out the corresponding phone number. If the name is not\n",
    "in the phone book, print out a message saying that the name was not found."
   ]
  },
  {
   "cell_type": "code",
   "execution_count": 6,
   "id": "222e7024-e5e5-488c-9f61-5b3d7e40ac52",
   "metadata": {},
   "outputs": [
    {
     "name": "stdin",
     "output_type": "stream",
     "text": [
      "Enter a name:  Bob\n"
     ]
    },
    {
     "name": "stdout",
     "output_type": "stream",
     "text": [
      "Bob's phone number is 555-5678.\n"
     ]
    }
   ],
   "source": [
    "phone_book = {\n",
    "    \"Alice\":\"555-1234\",\n",
    "    \"Bob\":\"555-5678\",\n",
    "    \"Charlie\":\"555-9012\"}\n",
    "name = input(\"Enter a name: \")\n",
    "if name in phone_book:\n",
    "    phone_number = phone_book[name]\n",
    "    print(f\"{name}'s phone number is {phone_number}.\")\n",
    "else:\n",
    "    print(f\"Sorry, {name} was not found in the phone book.\")"
   ]
  },
  {
   "cell_type": "markdown",
   "id": "88552292-f773-4974-b48e-5a0ecc12e328",
   "metadata": {},
   "source": [
    "5) Write a program that prompts the user to enter a number between 1 and 10. If the number is less than\n",
    "5, print out \"Too low!\", otherwise print out \"Too high!\"."
   ]
  },
  {
   "cell_type": "code",
   "execution_count": 7,
   "id": "f76715d3-e8fd-450d-9820-782593ce734c",
   "metadata": {},
   "outputs": [
    {
     "name": "stdin",
     "output_type": "stream",
     "text": [
      "enter a number between 1 and 10:  12\n"
     ]
    },
    {
     "name": "stdout",
     "output_type": "stream",
     "text": [
      "Too high!\n"
     ]
    }
   ],
   "source": [
    "num = int(input(\"enter a number between 1 and 10: \"))\n",
    "if num <5:\n",
    "    print(\"Too low\")\n",
    "else:\n",
    "    print(\"Too high!\")"
   ]
  },
  {
   "cell_type": "markdown",
   "id": "00a8a69d-cc05-400d-a7cd-e4eedf48f8d5",
   "metadata": {},
   "source": [
    "6) Write a program that prompts the user to enter a password. If the password is \"password123\", print\n",
    "out \"Access granted\", otherwise print out \"Access denied\"."
   ]
  },
  {
   "cell_type": "code",
   "execution_count": 8,
   "id": "6ab7937c-7320-4c4b-9171-cc30a78f5f01",
   "metadata": {},
   "outputs": [
    {
     "name": "stdin",
     "output_type": "stream",
     "text": [
      "Enter password:  vfchgbucgvh\n"
     ]
    },
    {
     "name": "stdout",
     "output_type": "stream",
     "text": [
      "Access denied\n"
     ]
    }
   ],
   "source": [
    "password = input(\"Enter password: \")\n",
    "\n",
    "if password == \"password123\":\n",
    "    print(\"Access granted\")\n",
    "else:\n",
    "    print(\"Access denied\")"
   ]
  },
  {
   "cell_type": "markdown",
   "id": "a72812ab-a71d-4cd8-b25c-2e6e5e8afa05",
   "metadata": {},
   "source": [
    "7) Write a program that prompts the user to enter a positive integer. Then, use a loop to print out all the\n",
    "odd numbers from 1 to that integer."
   ]
  },
  {
   "cell_type": "code",
   "execution_count": 9,
   "id": "6e8adb65-47fd-4f5f-805d-d684cde3d132",
   "metadata": {},
   "outputs": [
    {
     "name": "stdin",
     "output_type": "stream",
     "text": [
      "enter a possitive number:  34\n"
     ]
    },
    {
     "name": "stdout",
     "output_type": "stream",
     "text": [
      "Odd numbers from 1 to 34 :\n",
      "1\n",
      "3\n",
      "5\n",
      "7\n",
      "9\n",
      "11\n",
      "13\n",
      "15\n",
      "17\n",
      "19\n",
      "21\n",
      "23\n",
      "25\n",
      "27\n",
      "29\n",
      "31\n",
      "33\n"
     ]
    }
   ],
   "source": [
    "num = int(input(\"enter a possitive number: \"))\n",
    "print(\"Odd numbers from 1 to\", num, \":\")\n",
    "for i in range(1, num+1, 2):\n",
    "    print(i)"
   ]
  },
  {
   "cell_type": "markdown",
   "id": "07f781f1-a5bb-4302-95fc-d1edbfd931f9",
   "metadata": {},
   "source": [
    "8) Write a program that generates a random number between 1 and 100 and then prompts the user to\n",
    "guess the number. If the user's guess is too low, print out \"Too low!\", if the guess is too high, print out \"Too\n",
    "high!\", and if the guess is correct, print out \"You win!\"."
   ]
  },
  {
   "cell_type": "code",
   "execution_count": null,
   "id": "9527c933-fa05-45d9-9535-59bbff081df0",
   "metadata": {},
   "outputs": [],
   "source": [
    "import random\n",
    "n = random.randint(1,100)\n",
    "guess = int(input(\"Guess the number between 1 and 100: \"))\n",
    "while guess != n:\n",
    "    if guess < n:\n",
    "        print(\"Too low!\")\n",
    "    else:\n",
    "        print(\"Too high!\")\n",
    "    guess = int(input(\"Guess again: \"))\n",
    "\n",
    "print(\"You win!\")\n"
   ]
  },
  {
   "cell_type": "markdown",
   "id": "e2a84550-13ed-4c6d-8374-93bd61d187de",
   "metadata": {},
   "source": [
    "9) Write a program that generates a random number between 1 and 10 and then prompts the user to\n",
    "guess the number. The user has three attempts to guess the number. If the user guesses correctly within\n",
    "three attempts, print out \"You win!\", otherwise print out \"You lose!\"."
   ]
  },
  {
   "cell_type": "code",
   "execution_count": 13,
   "id": "c2ce9049-0e23-41af-8b06-1cba9c7bb4be",
   "metadata": {},
   "outputs": [
    {
     "name": "stdin",
     "output_type": "stream",
     "text": [
      "Guess the number between 1 and 10:  5\n"
     ]
    },
    {
     "name": "stdout",
     "output_type": "stream",
     "text": [
      "You win!\n"
     ]
    }
   ],
   "source": [
    "import random\n",
    "n = random.randint(1,10)\n",
    "for i in range(3):\n",
    "    guess = int(input(\"Guess the number between 1 and 10: \"))\n",
    "    if guess == n:\n",
    "        print(\"You win!\")\n",
    "        break\n",
    "    elif i == 2:\n",
    "        print(\"You lose!\")\n",
    "    else:\n",
    "        print(\"Try again...\")"
   ]
  },
  {
   "cell_type": "code",
   "execution_count": null,
   "id": "73f25d14-bd04-40f1-81cd-38f50a294a4c",
   "metadata": {},
   "outputs": [],
   "source": []
  }
 ],
 "metadata": {
  "kernelspec": {
   "display_name": "Python 3 (ipykernel)",
   "language": "python",
   "name": "python3"
  },
  "language_info": {
   "codemirror_mode": {
    "name": "ipython",
    "version": 3
   },
   "file_extension": ".py",
   "mimetype": "text/x-python",
   "name": "python",
   "nbconvert_exporter": "python",
   "pygments_lexer": "ipython3",
   "version": "3.10.8"
  }
 },
 "nbformat": 4,
 "nbformat_minor": 5
}
