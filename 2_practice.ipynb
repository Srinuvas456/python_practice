{
 "cells": [
  {
   "cell_type": "markdown",
   "id": "388b6978-c6bd-4146-a909-54688d4bd8a4",
   "metadata": {},
   "source": [
    "1) Create a list in python using the followings: 2,3,4,5,6,7 with variable ‘a’\n",
    "Add ‘mango to the above list\n",
    "Also add banana, grapes & orange in the list\n",
    "insert apple in the 5th position of a variable ‘a’\n",
    "Remove last item from the list"
   ]
  },
  {
   "cell_type": "code",
   "execution_count": 2,
   "id": "2cb18af4-ddae-4fd4-b424-c3827938700c",
   "metadata": {},
   "outputs": [
    {
     "data": {
      "text/plain": [
       "[2, 3, 4, 5, 'apple', 6, 7, 'mango', 'banana', 'grapes']"
      ]
     },
     "execution_count": 2,
     "metadata": {},
     "output_type": "execute_result"
    }
   ],
   "source": [
    "a = [2,3,4,5,6,7]\n",
    "a.append(\"mango\")\n",
    "a.extend([\"banana\",\"grapes\",\"oranges\"])\n",
    "a.insert(4, \"apple\")\n",
    "a.pop()\n",
    "a"
   ]
  },
  {
   "cell_type": "markdown",
   "id": "ad1b334b-e075-4088-a67f-ec8fd6ccc638",
   "metadata": {},
   "source": [
    "2) L = [1,2,3,4,5,6,7]\n",
    "Using the above list slice from 1:4"
   ]
  },
  {
   "cell_type": "code",
   "execution_count": 3,
   "id": "c6aea656-b96f-46ff-b83b-57db0aaa10fc",
   "metadata": {},
   "outputs": [
    {
     "data": {
      "text/plain": [
       "[2, 3, 4]"
      ]
     },
     "execution_count": 3,
     "metadata": {},
     "output_type": "execute_result"
    }
   ],
   "source": [
    "L = [1,2,3,4,5,6,7]\n",
    "L[1:4]"
   ]
  },
  {
   "cell_type": "markdown",
   "id": "bb27bdda-b8f5-465a-a189-5a92498cf625",
   "metadata": {},
   "source": [
    "3) Reverse the order of given string L = [4,5,6,8,3] Without using reverse() function."
   ]
  },
  {
   "cell_type": "code",
   "execution_count": 4,
   "id": "e386d0f7-d0ba-4ec0-be76-2ce1da4e1aab",
   "metadata": {},
   "outputs": [
    {
     "data": {
      "text/plain": [
       "[3, 8, 6, 5, 4]"
      ]
     },
     "execution_count": 4,
     "metadata": {},
     "output_type": "execute_result"
    }
   ],
   "source": [
    "L = [4,5,6,8,3]\n",
    "for i in range(len(L) // 2):\n",
    "    L[i], L[len(L) - i - 1] = L[len(L) - i - 1], L[i]\n",
    "L    "
   ]
  },
  {
   "cell_type": "markdown",
   "id": "5927863c-c1e9-423a-b84f-8370177c2c33",
   "metadata": {},
   "source": [
    "4) Use list comprehension to square the given list L=[2,4,7,3,6,8]"
   ]
  },
  {
   "cell_type": "code",
   "execution_count": 5,
   "id": "771a7af9-9906-447a-a0fe-553a5f22bf69",
   "metadata": {},
   "outputs": [
    {
     "data": {
      "text/plain": [
       "[4, 16, 49, 9, 36, 64]"
      ]
     },
     "execution_count": 5,
     "metadata": {},
     "output_type": "execute_result"
    }
   ],
   "source": [
    "L = [2,4,7,3,6,8]\n",
    "squared_L = [x**2 for x in L]\n",
    "squared_L\n",
    "    "
   ]
  },
  {
   "cell_type": "markdown",
   "id": "241ee044-2d6f-455e-a065-6970d2ab0ec5",
   "metadata": {},
   "source": [
    "5) Create a function that takes in a tuple of integers and returns the sum of the integers. Test the\n",
    "function with a tuple of your choice."
   ]
  },
  {
   "cell_type": "code",
   "execution_count": 6,
   "id": "713964a6-0dd2-485e-8a31-d8b7593deb86",
   "metadata": {},
   "outputs": [
    {
     "data": {
      "text/plain": [
       "15"
      ]
     },
     "execution_count": 6,
     "metadata": {},
     "output_type": "execute_result"
    }
   ],
   "source": [
    "def sum_tuple(t):\n",
    "    return sum(t)\n",
    "t = (1,2,3,4,5)\n",
    "total = sum_tuple(t)\n",
    "total\n",
    "\n",
    "    "
   ]
  },
  {
   "cell_type": "markdown",
   "id": "b9f7156d-97d6-44ee-91ad-7b42b0299bc2",
   "metadata": {},
   "source": [
    "6) Create two sets of your favourite fruits, and use the union() method to combine them into a single set.\n",
    "Print the resulting set to the console."
   ]
  },
  {
   "cell_type": "code",
   "execution_count": 7,
   "id": "bf0479da-4070-48c2-8ead-713a9ee50e48",
   "metadata": {},
   "outputs": [
    {
     "data": {
      "text/plain": [
       "{'apple', 'banana', 'cherry', 'kiwi', 'orange', 'pear'}"
      ]
     },
     "execution_count": 7,
     "metadata": {},
     "output_type": "execute_result"
    }
   ],
   "source": [
    "s1 = {\"apple\",\"banana\",\"cherry\"}\n",
    "s2 = {\"orange\",\"kiwi\",\"pear\"}\n",
    "s3 = s1.union(s2)\n",
    "s3"
   ]
  },
  {
   "cell_type": "markdown",
   "id": "9ef656fe-8238-4d70-83a3-060ae5bf4c4a",
   "metadata": {},
   "source": [
    "7) Create a set of random words, and use the add() method to add a new word to the set. Print the\n",
    "resulting set to the console."
   ]
  },
  {
   "cell_type": "code",
   "execution_count": 8,
   "id": "ba1c3144-3c36-47bf-bd98-2f2f472fa143",
   "metadata": {},
   "outputs": [
    {
     "data": {
      "text/plain": [
       "{'computer', 'hello', 'programming', 'python', 'world'}"
      ]
     },
     "execution_count": 8,
     "metadata": {},
     "output_type": "execute_result"
    }
   ],
   "source": [
    "word_set = {'hello', 'world', 'python', 'programming'}\n",
    "word_set.add('computer')\n",
    "word_set"
   ]
  },
  {
   "cell_type": "markdown",
   "id": "f4de886d-b216-4554-9e14-ea2a9058d3be",
   "metadata": {},
   "source": [
    "8) Create a set of your favourite animals, and use the remove() method to remove one animal from the\n",
    "set. Print the resulting set to the console."
   ]
  },
  {
   "cell_type": "code",
   "execution_count": 10,
   "id": "aadf7634-b67c-4528-a26f-c3cfd54d8f97",
   "metadata": {},
   "outputs": [
    {
     "data": {
      "text/plain": [
       "{'cat', 'dog', 'elephant', 'giraffe'}"
      ]
     },
     "execution_count": 10,
     "metadata": {},
     "output_type": "execute_result"
    }
   ],
   "source": [
    "animals_set = {'dog', 'cat', 'elephant', 'lion', 'giraffe'}\n",
    "animals_set.remove(\"lion\")\n",
    "animals_set"
   ]
  },
  {
   "cell_type": "markdown",
   "id": "7f1e37ae-d60d-47fb-9763-f0a2854ff8d4",
   "metadata": {},
   "source": [
    "9) favorite_books = {\"1984\", \"To Kill a Mockingbird\", \"Pride and Prejudice\"}\n",
    "favorite_movies = [\"The Shawshank Redemption\", \"The Godfather\", \"The Dark Knight\"]\n",
    "Use the zip() function to combine the book set and movie list into a list of tuples representing book/\n",
    "movie pairs. Print the resulting list."
   ]
  },
  {
   "cell_type": "code",
   "execution_count": 11,
   "id": "fe51d794-8432-4cc4-af29-9d9417a1a031",
   "metadata": {},
   "outputs": [
    {
     "data": {
      "text/plain": [
       "[('1984', 'The Shawshank Redemption'),\n",
       " ('Pride and Prejudice', 'The Godfather'),\n",
       " ('To Kill a Mockingbird', 'The Dark Knight')]"
      ]
     },
     "execution_count": 11,
     "metadata": {},
     "output_type": "execute_result"
    }
   ],
   "source": [
    "favorite_books = {\"1984\",\"To Kill a Mockingbird\",\"Pride and Prejudice\"}\n",
    "favorite_movies = [\"The Shawshank Redemption\", \"The Godfather\",\"The Dark Knight\"]\n",
    "favorite = list(zip(favorite_books, favorite_movies))\n",
    "favorite"
   ]
  },
  {
   "cell_type": "markdown",
   "id": "971c58b2-74e4-45a3-8337-e70a39e1a890",
   "metadata": {},
   "source": [
    "10) Write a Python program to find the difference between consecutive numbers in a list.\n",
    "\n",
    "Solutions:\n",
    "\n",
    "Data Science Masters\n",
    "\n",
    "# Exercise 6\n",
    "fruits1 = {\"apple\", \"banana\", \"pear\"}\n",
    "fruits2 = {\"orange\", \"grape\", \"kiwi\"}\n",
    "combined_fruits = fruits1.union(fruits2)\n",
    "print(combined_fruits)\n",
    "# Exercise 7\n",
    "words = {\"hello\", \"world\", \"python\"}\n",
    "words.add(\"programming\")\n",
    "print(words)\n",
    "\n",
    "Data Science Masters\n",
    "\n",
    "# Exercise 8\n",
    "animals = {\"dog\", \"cat\", \"hamster\", \"parrot\"}\n",
    "animals.remove(\"cat\")\n",
    "print(animals)\n",
    "# Solution 9\n",
    "book_movie_pairs = list(zip(favorite_books, favorite_movies))\n",
    "print(book_movie_pairs)\n",
    "# Solutions 10\n",
    "def find_diff_consecutive_numbers(lst):\n",
    "diffs = []\n",
    "for i in range(1, len(lst)):\n",
    "diff = lst[i] - lst[i-1]\n",
    "diffs.append(diff)\n",
    "return diffs\n",
    "# example usage\n",
    "my_list = [5, 9, 12, 18, 22]\n",
    "diffs = find_diff_consecutive_numbers(my_list)\n",
    "print(diffs) # Output: [4, 3, 6, 4]"
   ]
  },
  {
   "cell_type": "code",
   "execution_count": 13,
   "id": "420da234-043a-46c7-a739-1deecd250f66",
   "metadata": {},
   "outputs": [
    {
     "data": {
      "text/plain": [
       "{'apple', 'banana', 'grape', 'kiwi', 'orange', 'pear'}"
      ]
     },
     "execution_count": 13,
     "metadata": {},
     "output_type": "execute_result"
    }
   ],
   "source": [
    "fruits1 = {\"apple\", \"banana\", \"pear\"}\n",
    "fruits2 = {\"orange\", \"grape\", \"kiwi\"}\n",
    "combined_fruits = fruits1.union(fruits2)\n",
    "combined_fruits"
   ]
  },
  {
   "cell_type": "code",
   "execution_count": 14,
   "id": "6e85f958-9851-4420-8138-92a164bf2e64",
   "metadata": {},
   "outputs": [
    {
     "data": {
      "text/plain": [
       "{'hello', 'programming', 'python', 'world'}"
      ]
     },
     "execution_count": 14,
     "metadata": {},
     "output_type": "execute_result"
    }
   ],
   "source": [
    "words = {\"hello\", \"world\", \"python\"}\n",
    "words.add(\"programming\")\n",
    "words\n"
   ]
  },
  {
   "cell_type": "code",
   "execution_count": 15,
   "id": "17a88a75-592f-45c0-83e7-ebbf7d8413d4",
   "metadata": {},
   "outputs": [
    {
     "data": {
      "text/plain": [
       "{'dog', 'hamster', 'parrot'}"
      ]
     },
     "execution_count": 15,
     "metadata": {},
     "output_type": "execute_result"
    }
   ],
   "source": [
    "animals = {\"dog\", \"cat\", \"hamster\", \"parrot\"}\n",
    "animals.remove(\"cat\")\n",
    "animals"
   ]
  },
  {
   "cell_type": "code",
   "execution_count": 18,
   "id": "f917078f-c903-47d0-b615-6cc5dc7cacdb",
   "metadata": {},
   "outputs": [],
   "source": [
    "def find_diff_consecutive_numbers(lst):\n",
    "    diffs = []\n",
    "    for i in range(1, len(lst)):\n",
    "        diff = lst[i] - lst[i-1]\n",
    "        diffs.append(diff)\n",
    "    return diffs"
   ]
  },
  {
   "cell_type": "code",
   "execution_count": 19,
   "id": "0043a21d-814d-4bbd-bb39-81b60220557c",
   "metadata": {},
   "outputs": [
    {
     "data": {
      "text/plain": [
       "[4, 3, 6, 4]"
      ]
     },
     "execution_count": 19,
     "metadata": {},
     "output_type": "execute_result"
    }
   ],
   "source": [
    "my_list = [5, 9, 12, 18, 22]\n",
    "diffs = find_diff_consecutive_numbers(my_list)\n",
    "diffs"
   ]
  },
  {
   "cell_type": "code",
   "execution_count": null,
   "id": "153a021b-c5a9-4992-b93f-871d13e2eb77",
   "metadata": {},
   "outputs": [],
   "source": []
  }
 ],
 "metadata": {
  "kernelspec": {
   "display_name": "Python 3 (ipykernel)",
   "language": "python",
   "name": "python3"
  },
  "language_info": {
   "codemirror_mode": {
    "name": "ipython",
    "version": 3
   },
   "file_extension": ".py",
   "mimetype": "text/x-python",
   "name": "python",
   "nbconvert_exporter": "python",
   "pygments_lexer": "ipython3",
   "version": "3.10.8"
  }
 },
 "nbformat": 4,
 "nbformat_minor": 5
}
