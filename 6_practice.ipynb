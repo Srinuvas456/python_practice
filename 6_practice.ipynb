{
 "cells": [
  {
   "cell_type": "markdown",
   "id": "433e92ca-514f-41b9-a33a-9a83939a27c0",
   "metadata": {},
   "source": [
    "1) Write a program that prints the first 10 even numbers using a for loop."
   ]
  },
  {
   "cell_type": "code",
   "execution_count": 1,
   "id": "e6b931b6-0bc9-4a2d-b7e9-619e22cc1f13",
   "metadata": {},
   "outputs": [
    {
     "name": "stdout",
     "output_type": "stream",
     "text": [
      "2\n",
      "4\n",
      "6\n",
      "8\n",
      "10\n",
      "12\n",
      "14\n",
      "16\n",
      "18\n",
      "20\n"
     ]
    }
   ],
   "source": [
    "for i in range(2,21,2):\n",
    "    print(i)"
   ]
  },
  {
   "cell_type": "markdown",
   "id": "dbbfe697-e1e3-4171-bc28-75ae564e15aa",
   "metadata": {},
   "source": [
    "2) Write a program that takes a list of strings and prints out each string in reverse order using a for loop."
   ]
  },
  {
   "cell_type": "code",
   "execution_count": 3,
   "id": "2621e90a-7075-4df0-86bb-2f8e7fadd872",
   "metadata": {},
   "outputs": [
    {
     "name": "stdout",
     "output_type": "stream",
     "text": [
      "olleh\n",
      "dlrow\n",
      "nohtyp\n",
      "margorp\n"
     ]
    }
   ],
   "source": [
    "my_list = [\"hello\",\"world\",\"python\",\"program\"]\n",
    "for string in my_list:\n",
    "    print(string[::-1])"
   ]
  },
  {
   "cell_type": "markdown",
   "id": "f1cbbed7-38a5-4741-b46f-3ace8f81b72a",
   "metadata": {},
   "source": [
    "3) Write a program that prints the multiplication table of a given number using a for loop."
   ]
  },
  {
   "cell_type": "code",
   "execution_count": 4,
   "id": "8e375c6e-634b-4b95-9378-d9879a17fab3",
   "metadata": {},
   "outputs": [
    {
     "name": "stdin",
     "output_type": "stream",
     "text": [
      "enter a number :  5\n"
     ]
    },
    {
     "name": "stdout",
     "output_type": "stream",
     "text": [
      "5 x 1 = 5\n",
      "5 x 2 = 10\n",
      "5 x 3 = 15\n",
      "5 x 4 = 20\n",
      "5 x 5 = 25\n",
      "5 x 6 = 30\n",
      "5 x 7 = 35\n",
      "5 x 8 = 40\n",
      "5 x 9 = 45\n",
      "5 x 10 = 50\n"
     ]
    }
   ],
   "source": [
    "num = int(input(\"enter a number : \"))\n",
    "for i in range(1,11):\n",
    "    print(num, \"x\",i, \"=\",num*i)"
   ]
  },
  {
   "cell_type": "markdown",
   "id": "2e54b44a-0ecd-4cef-be7e-192b1a49383c",
   "metadata": {},
   "source": [
    "4) Write a program that takes a list of integers as input and returns the sum of all the numbers in the list\n",
    "using a for loop."
   ]
  },
  {
   "cell_type": "code",
   "execution_count": 5,
   "id": "34661d5b-ec5f-42bb-abcc-6eeaf710ab77",
   "metadata": {},
   "outputs": [
    {
     "data": {
      "text/plain": [
       "15"
      ]
     },
     "execution_count": 5,
     "metadata": {},
     "output_type": "execute_result"
    }
   ],
   "source": [
    "my_list = [1,2,3,4,5]\n",
    "total=0\n",
    "for num in my_list:\n",
    "    total += num\n",
    "total    "
   ]
  },
  {
   "cell_type": "markdown",
   "id": "dd9b2eb7-cd68-4ca9-b5ad-25eb4f68038a",
   "metadata": {},
   "source": [
    "5) Write a program that prompts the user for a positive integer and then prints out all the prime\n",
    "numbers up to that number using a for loop."
   ]
  },
  {
   "cell_type": "code",
   "execution_count": 6,
   "id": "05ef228d-75d4-4469-8223-fb2eb3973904",
   "metadata": {},
   "outputs": [
    {
     "name": "stdin",
     "output_type": "stream",
     "text": [
      "please enter a number:  34\n"
     ]
    },
    {
     "name": "stdout",
     "output_type": "stream",
     "text": [
      "Prime numbers up to 34 :\n",
      "2\n",
      "3\n",
      "5\n",
      "7\n",
      "11\n",
      "13\n",
      "17\n",
      "19\n",
      "23\n",
      "29\n",
      "31\n"
     ]
    }
   ],
   "source": [
    "n = int(input(\"please enter a number: \"))\n",
    "print(\"Prime numbers up to\", n, \":\")\n",
    "\n",
    "for i in range(2, n+1):\n",
    "    is_prime = True\n",
    "    for j in range(2, i):\n",
    "        if i % j == 0:\n",
    "            is_prime = False\n",
    "            break\n",
    "    if is_prime:\n",
    "        print(i)"
   ]
  },
  {
   "cell_type": "markdown",
   "id": "68829f9e-250f-43c5-ad6c-5af6fd2d5a53",
   "metadata": {},
   "source": [
    "6) Write a program that prompts the user to enter a password until the correct password is entered\n",
    "using a while loop."
   ]
  },
  {
   "cell_type": "code",
   "execution_count": 7,
   "id": "0e5418e1-5010-4cc2-a5b1-ff6b6f9f5830",
   "metadata": {},
   "outputs": [
    {
     "name": "stdin",
     "output_type": "stream",
     "text": [
      "Please enter the password:  password\n",
      "Please enter the password:  password123\n"
     ]
    },
    {
     "name": "stdout",
     "output_type": "stream",
     "text": [
      "correct password entered\n"
     ]
    }
   ],
   "source": [
    "correct_password = \"password123\"\n",
    "user_password = \"\"\n",
    "while user_password != correct_password:\n",
    "    user_password = input(\"Please enter the password: \")\n",
    "print(\"correct password entered\")    "
   ]
  },
  {
   "cell_type": "markdown",
   "id": "900cc537-e108-45d4-9024-703816453d34",
   "metadata": {},
   "source": [
    "7) Write a program that takes a list of strings and prints out each string in reverse order using a while\n",
    "loop."
   ]
  },
  {
   "cell_type": "code",
   "execution_count": 8,
   "id": "4b45154e-816d-465d-abec-abfe74603a0b",
   "metadata": {},
   "outputs": [
    {
     "name": "stdout",
     "output_type": "stream",
     "text": [
      "gnimmargorp\n",
      "nohtyp\n",
      "dlrow\n",
      "olleh\n"
     ]
    }
   ],
   "source": [
    "string_list = ['hello', 'world', 'python', 'programming']\n",
    "index = len(string_list) - 1\n",
    "\n",
    "while index >= 0:\n",
    "    print(string_list[index][::-1])\n",
    "    index -= 1"
   ]
  },
  {
   "cell_type": "markdown",
   "id": "c5b78377-2c0b-4298-87b8-24dda4927f92",
   "metadata": {},
   "source": [
    "8) Write a program that prompts the user to enter a positive integer and then prints out all the Fibonacci\n",
    "numbers up to that number using a while loop."
   ]
  },
  {
   "cell_type": "code",
   "execution_count": 10,
   "id": "9f05a69d-ca95-4bca-9814-81b4d5a19add",
   "metadata": {},
   "outputs": [
    {
     "name": "stdin",
     "output_type": "stream",
     "text": [
      "enter a number 5\n"
     ]
    },
    {
     "name": "stdout",
     "output_type": "stream",
     "text": [
      "0\n",
      "1\n",
      "1\n",
      "2\n",
      "3\n",
      "5\n"
     ]
    }
   ],
   "source": [
    "n = int(input(\"enter a number\"))\n",
    "a,b = 0,1\n",
    "print(a)\n",
    "while b <=num:\n",
    "    print(b)\n",
    "    a,b=b,a+b\n",
    "    "
   ]
  },
  {
   "cell_type": "markdown",
   "id": "fecee6c5-d70a-4aae-b596-83569999ecc4",
   "metadata": {},
   "source": [
    "9) Write a program that takes a list of integers as input and returns the product of all the numbers in the\n",
    "list using a while loop."
   ]
  },
  {
   "cell_type": "code",
   "execution_count": 11,
   "id": "02719989-2000-4f26-9a6b-acc61f32df68",
   "metadata": {},
   "outputs": [
    {
     "name": "stdin",
     "output_type": "stream",
     "text": [
      "Enter a number (or 'done' to finish):  23\n",
      "Enter a number (or 'done' to finish):  34\n",
      "Enter a number (or 'done' to finish):  55\n",
      "Enter a number (or 'done' to finish):  67\n",
      "Enter a number (or 'done' to finish):  88\n",
      "Enter a number (or 'done' to finish):  done\n"
     ]
    },
    {
     "data": {
      "text/plain": [
       "253586960"
      ]
     },
     "execution_count": 11,
     "metadata": {},
     "output_type": "execute_result"
    }
   ],
   "source": [
    "num_list = []\n",
    "while True:\n",
    "    num = input(\"Enter a number (or 'done' to finish): \")\n",
    "    if num == 'done':\n",
    "        break\n",
    "    num_list.append(int(num))\n",
    "product = 1\n",
    "i = 0\n",
    "while i < len(num_list):\n",
    "    product *= num_list[i]\n",
    "    i += 1\n",
    "product"
   ]
  },
  {
   "cell_type": "markdown",
   "id": "b9275cd9-dd0d-4e0e-a12d-0e6508ef56d6",
   "metadata": {},
   "source": [
    "10) Write a program that prompts the user to enter a positive integer and then prints out the factorial of\n",
    "that number using a while loop."
   ]
  },
  {
   "cell_type": "code",
   "execution_count": 12,
   "id": "a0aa16c3-d3ef-43c1-99a9-66609a9625cd",
   "metadata": {},
   "outputs": [
    {
     "name": "stdin",
     "output_type": "stream",
     "text": [
      "Enter a positive integer:  23\n"
     ]
    },
    {
     "data": {
      "text/plain": [
       "25852016738884976640000"
      ]
     },
     "execution_count": 12,
     "metadata": {},
     "output_type": "execute_result"
    }
   ],
   "source": [
    "num = int(input(\"Enter a positive integer: \"))\n",
    "\n",
    "factorial = 1\n",
    "i = 1\n",
    "\n",
    "while i <= num:\n",
    "    factorial *= i\n",
    "    i += 1\n",
    "factorial"
   ]
  },
  {
   "cell_type": "code",
   "execution_count": null,
   "id": "90834610-b338-4c10-ba32-8a4075b5fc6b",
   "metadata": {},
   "outputs": [],
   "source": []
  }
 ],
 "metadata": {
  "kernelspec": {
   "display_name": "Python 3 (ipykernel)",
   "language": "python",
   "name": "python3"
  },
  "language_info": {
   "codemirror_mode": {
    "name": "ipython",
    "version": 3
   },
   "file_extension": ".py",
   "mimetype": "text/x-python",
   "name": "python",
   "nbconvert_exporter": "python",
   "pygments_lexer": "ipython3",
   "version": "3.10.8"
  }
 },
 "nbformat": 4,
 "nbformat_minor": 5
}
