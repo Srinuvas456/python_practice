{
 "cells": [
  {
   "cell_type": "markdown",
   "id": "7bb82648-c94b-43c5-b93c-221b15a1f03f",
   "metadata": {},
   "source": [
    "1) Write a Python program that defines a function called \"add_numbers\" that takes two arguments (i.e.,\n",
    "numbers) and returns their sum. Within the function, add the two numbers together and return the result\n",
    "using the return statement. Call the function with the values 5 and 6, and print out the returned result.\n",
    "This will result in the addition of 5 and 6, with the output of the program being the sum of these two\n",
    "numbers."
   ]
  },
  {
   "cell_type": "code",
   "execution_count": 1,
   "id": "4d92d554-14ab-4f2d-80a4-591d6e5ca15c",
   "metadata": {},
   "outputs": [
    {
     "data": {
      "text/plain": [
       "9"
      ]
     },
     "execution_count": 1,
     "metadata": {},
     "output_type": "execute_result"
    }
   ],
   "source": [
    "def add_numbers(a,b):\n",
    "    sum = a+b\n",
    "    return sum\n",
    "add_numbers(4,5)"
   ]
  },
  {
   "cell_type": "markdown",
   "id": "5ce5ffb1-e47d-42e3-8947-3eb82bb84a92",
   "metadata": {},
   "source": [
    "2) Write a Python program that calculates the square root of a given number using a built-in function.\n",
    "Specifically, the program should take an integer or float input from the user, calculate its square root\n",
    "using the 'sqrt()' function from the 'math' module, and print out the result to the user. As an example,\n",
    "calculate the square root of the number 625 using this program, which should output the value of 25."
   ]
  },
  {
   "cell_type": "code",
   "execution_count": 4,
   "id": "df55d600-1ceb-4429-bf82-9c4ae2fc7aad",
   "metadata": {},
   "outputs": [
    {
     "name": "stdin",
     "output_type": "stream",
     "text": [
      "Enter a number:  5\n"
     ]
    },
    {
     "data": {
      "text/plain": [
       "2.23606797749979"
      ]
     },
     "execution_count": 4,
     "metadata": {},
     "output_type": "execute_result"
    }
   ],
   "source": [
    "import math \n",
    "number = float(input(\"Enter a number: \"))\n",
    "square_root = math.sqrt(number)\n",
    "square_root\n"
   ]
  },
  {
   "cell_type": "markdown",
   "id": "57abca54-714c-499f-b19e-4c607d0aeb97",
   "metadata": {},
   "source": [
    "3) Write a program that prints all prime numbers between 0 to 50."
   ]
  },
  {
   "cell_type": "code",
   "execution_count": 5,
   "id": "984f1eec-d320-47cf-a4e5-cc19bb1bafb3",
   "metadata": {},
   "outputs": [
    {
     "name": "stdout",
     "output_type": "stream",
     "text": [
      "2\n",
      "3\n",
      "5\n",
      "7\n",
      "11\n",
      "13\n",
      "17\n",
      "19\n",
      "23\n",
      "29\n",
      "31\n",
      "37\n",
      "41\n",
      "43\n",
      "47\n"
     ]
    }
   ],
   "source": [
    "for num in range(2,50):\n",
    "    for i in range(2,num):\n",
    "        if (num%i)==0:\n",
    "            break\n",
    "            \n",
    "    else:\n",
    "        print(num)\n",
    "    \n",
    "    "
   ]
  },
  {
   "cell_type": "markdown",
   "id": "ffbaaf26-fc18-4962-8e2b-83c148e74a03",
   "metadata": {},
   "source": [
    "4) How can we swap the values of three variables (let's say a, b, and c) without using a fourth variable?\n",
    "For example, if we have a=5, b=8, and c=9, how can we obtain a=9, b=5, and c=8? The challenge is to\n",
    "perform this operation without using an additional variable to store any of the values during the\n",
    "swapping process."
   ]
  },
  {
   "cell_type": "code",
   "execution_count": 6,
   "id": "d0185ba5-0884-4ace-8575-a8b9dae5f0e3",
   "metadata": {},
   "outputs": [
    {
     "name": "stdout",
     "output_type": "stream",
     "text": [
      "9\n",
      "5\n",
      "8\n"
     ]
    }
   ],
   "source": [
    "a = 5\n",
    "b= 8\n",
    "c  = 9\n",
    "a = a+b+c\n",
    "b = a-b-c\n",
    "c = a-b-c\n",
    "a = a-b-c\n",
    "print(a)\n",
    "print(b)\n",
    "print(c)"
   ]
  },
  {
   "cell_type": "markdown",
   "id": "01462b14-5739-438c-bbcb-438e2f5634b0",
   "metadata": {},
   "source": [
    "5) Can you write a program that determines the nature of a given number (in this case, 87) as being\n",
    "positive, negative, or zero? The program should be designed to take the number as input and perform the\n",
    "necessary calculations to determine if the number is positive (i.e., greater than zero), negative (i.e., less\n",
    "than zero), or zero (i.e., equal to zero). The output of the program should indicate which of these three\n",
    "categories the given number falls into."
   ]
  },
  {
   "cell_type": "code",
   "execution_count": 8,
   "id": "521bdb6e-7e16-4a4b-80dd-8a90e6f9f1f0",
   "metadata": {},
   "outputs": [
    {
     "name": "stdin",
     "output_type": "stream",
     "text": [
      "please enter a number:  -2\n"
     ]
    },
    {
     "name": "stdout",
     "output_type": "stream",
     "text": [
      "it is a negative number \n"
     ]
    }
   ],
   "source": [
    "num = int(input(\"please enter a number: \"))\n",
    "if num ==0:\n",
    "    print(\"it is equal to zero\")\n",
    "elif num >0 :\n",
    "    print(\"it is a possitive number \")\n",
    "else:\n",
    "    print(\"it is a negative number \")"
   ]
  },
  {
   "cell_type": "markdown",
   "id": "a6cba519-ef28-4e59-ae48-bf3ed927a68c",
   "metadata": {},
   "source": [
    "6) How can you create a program that determines whether a given number (in this case, 98) is even or\n",
    "odd? The program should be designed to take the number as input and perform the necessary\n",
    "calculations to determine whether it is divisible by two. If the number is divisible by two without leaving a\n",
    "remainder, it is an even number, and if there is a remainder, it is an odd number. The output of the\n",
    "program should indicate whether the given number is even or odd. "
   ]
  },
  {
   "cell_type": "code",
   "execution_count": 10,
   "id": "f4046894-6d7f-40a0-b0c9-bca159a9e178",
   "metadata": {},
   "outputs": [
    {
     "name": "stdin",
     "output_type": "stream",
     "text": [
      "please enter a number : 20\n"
     ]
    },
    {
     "name": "stdout",
     "output_type": "stream",
     "text": [
      "it is a even number \n"
     ]
    }
   ],
   "source": [
    "num = int(input(\"please enter a number :\"))\n",
    "if num%2==0:\n",
    "    print(\"it is a even number \")\n",
    "else:\n",
    "    print(\"it is a odd number \")"
   ]
  },
  {
   "cell_type": "markdown",
   "id": "dc6f7449-e4bb-4e19-b9e1-cc11330ea195",
   "metadata": {},
   "source": [
    "7) Write a program for sum of digits.the digits are 76543 and the output should be 25."
   ]
  },
  {
   "cell_type": "code",
   "execution_count": 11,
   "id": "3d84a2de-f83e-45a1-85c0-0b56dd0938b0",
   "metadata": {},
   "outputs": [
    {
     "data": {
      "text/plain": [
       "25"
      ]
     },
     "execution_count": 11,
     "metadata": {},
     "output_type": "execute_result"
    }
   ],
   "source": [
    "num = 76543\n",
    "sum_of_digits = 0\n",
    "while num >0:\n",
    "    sum_of_digits += num%10\n",
    "    num //=10\n",
    "sum_of_digits    "
   ]
  },
  {
   "cell_type": "markdown",
   "id": "99e67395-4bf1-469b-9bd0-007c246f71a8",
   "metadata": {},
   "source": [
    "8) Write a program for reversing the given number 5436 and the output should be 6345."
   ]
  },
  {
   "cell_type": "code",
   "execution_count": 12,
   "id": "56d08fa2-ecd8-43d5-8b9c-81780c5a0b98",
   "metadata": {},
   "outputs": [
    {
     "data": {
      "text/plain": [
       "6345"
      ]
     },
     "execution_count": 12,
     "metadata": {},
     "output_type": "execute_result"
    }
   ],
   "source": [
    "num = 5436\n",
    "rev_num =0\n",
    "while num >0:\n",
    "    rev_num = (rev_num*10) + (num%10)\n",
    "    num //=10\n",
    "rev_num    "
   ]
  },
  {
   "cell_type": "markdown",
   "id": "238b74d5-2c7b-44dd-9e65-c230d8c2098c",
   "metadata": {},
   "source": [
    "9) Write a program to check if a given number 371 is an Armstrong number?"
   ]
  },
  {
   "cell_type": "code",
   "execution_count": 14,
   "id": "a81a505e-33c8-4581-be4d-9b71d22ec7a3",
   "metadata": {},
   "outputs": [
    {
     "name": "stdout",
     "output_type": "stream",
     "text": [
      "is an Armstrong number\n"
     ]
    }
   ],
   "source": [
    "num = 371\n",
    "num_digits = len(str(number))\n",
    "sum = 0\n",
    "temp = num\n",
    "while temp > 0:\n",
    "    digit = temp % 10\n",
    "    sum += digit ** num_digits\n",
    "    temp //= 10\n",
    "if num == sum:\n",
    "    print(\"is an Armstrong number\")\n",
    "else:\n",
    "    print(\"is not an Armstrong number\")    \n"
   ]
  },
  {
   "cell_type": "markdown",
   "id": "7e6da9da-61f0-4018-aed3-c6dca6272d71",
   "metadata": {},
   "source": [
    "10) Write a program the given year is 1996, a leap year."
   ]
  },
  {
   "cell_type": "code",
   "execution_count": 18,
   "id": "0cf23d80-77bb-4960-8014-05bf41249397",
   "metadata": {},
   "outputs": [
    {
     "name": "stdin",
     "output_type": "stream",
     "text": [
      "please enter a year:  2346\n"
     ]
    },
    {
     "name": "stdout",
     "output_type": "stream",
     "text": [
      "is not a leap year\n"
     ]
    }
   ],
   "source": [
    "year = int(input(\"please enter a year: \"))\n",
    "if (year % 4) == 0:\n",
    "   if (year % 100) == 0:\n",
    "       if (year % 400) == 0:\n",
    "           print(\"is a leap year\")\n",
    "       else:\n",
    "           print(\"is not a leap year\")\n",
    "   else:\n",
    "       print(\"is a leap year\")\n",
    "else:\n",
    "   print(\"is not a leap year\")"
   ]
  },
  {
   "cell_type": "code",
   "execution_count": null,
   "id": "2426adf0-59f1-493e-aad0-76262f403e2a",
   "metadata": {},
   "outputs": [],
   "source": []
  }
 ],
 "metadata": {
  "kernelspec": {
   "display_name": "Python 3 (ipykernel)",
   "language": "python",
   "name": "python3"
  },
  "language_info": {
   "codemirror_mode": {
    "name": "ipython",
    "version": 3
   },
   "file_extension": ".py",
   "mimetype": "text/x-python",
   "name": "python",
   "nbconvert_exporter": "python",
   "pygments_lexer": "ipython3",
   "version": "3.10.8"
  }
 },
 "nbformat": 4,
 "nbformat_minor": 5
}
