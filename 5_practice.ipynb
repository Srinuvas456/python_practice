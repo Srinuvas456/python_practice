{
 "cells": [
  {
   "cell_type": "markdown",
   "id": "5d185123-3ae1-4169-849f-030d17f74405",
   "metadata": {},
   "source": [
    "1) Can you create a Python program that reads a text file and counts the number of words contained\n",
    "within it? The program should be designed to read the file and break it down into individual words, using\n",
    "spaces, punctuation marks, and other delimiters to separate the words. It should then count the number\n",
    "of words found in the file and display this count as output. The program should be flexible enough to work\n",
    "with different text files and should be able to handle a variety of formatting and punctuation styles."
   ]
  },
  {
   "cell_type": "code",
   "execution_count": null,
   "id": "bd80ae69-f494-4693-baca-45ca9765b61c",
   "metadata": {},
   "outputs": [],
   "source": [
    "import string\n",
    "def count_words(file_path):\n",
    "    with open(file_path, 'r') as file:\n",
    "        text = file.read().lower()\n",
    "        \n",
    "        text = text.translate(str.maketrans('', '', string.punctuation))\n",
    "       \n",
    "        words = text.split()\n",
    "        num_words = len(words)\n",
    "        return num_words\n",
    "file_path = 'example.txt'\n",
    "num_words = count_words(file_path)\n",
    "print(f'The file {file_path} contains {num_words} words.')"
   ]
  },
  {
   "cell_type": "markdown",
   "id": "383d70cf-adf2-4d1d-b444-81ca2b49aba4",
   "metadata": {},
   "source": [
    "2) Could you help me create a Python program that can find and display the longest word in a text file?\n",
    "The program should be able to read any text file and separate its contents into individual words, taking\n",
    "into account various delimiters like spaces, punctuation marks, and other characters. Then, it should\n",
    "compare the length of each word and determine which one is the longest, and finally, print that word as\n",
    "output. The program should be versatile enough to work with various text files and be able to handle\n",
    "different formatting styles and punctuation."
   ]
  },
  {
   "cell_type": "code",
   "execution_count": null,
   "id": "1c17c932-19c8-4971-8b87-4bdfc70af630",
   "metadata": {},
   "outputs": [],
   "source": [
    "import string\n",
    "def find_longest_word(file_path):\n",
    "    with open(file_path, 'r') as file:\n",
    "        text = file.read().lower()\n",
    "        text = text.translate(str.maketrans('', '', string.punctuation))\n",
    "        words = text.split()\n",
    "        longest_word = words[0]\n",
    "        for word in words:\n",
    "            if len(word) > len(longest_word):\n",
    "                longest_word = word\n",
    "        return longest_word\n",
    "file_path = 'example.txt'\n",
    "longest_word = find_longest_word(file_path)\n",
    "print(f'The longest word in the file {file_path} is \"{longest_word}\".')    "
   ]
  },
  {
   "cell_type": "markdown",
   "id": "6924fbb5-57a7-45f9-a633-ec1126e00317",
   "metadata": {},
   "source": [
    "3) Write a Python program to read a text file and print out the most frequent word(s) in the file."
   ]
  },
  {
   "cell_type": "code",
   "execution_count": null,
   "id": "d5249dde-c2e4-4099-9dcf-743e2763a361",
   "metadata": {},
   "outputs": [],
   "source": [
    "from collections import Counter\n",
    "import string\n",
    "def find_most_frequent_words(file_path, num_of_words=1):\n",
    "    with open(file_path, 'r') as file:\n",
    "        text = file.read().lower()\n",
    "        text = text.translate(str.maketrans('', '', string.punctuation))\n",
    "        words = text.split()\n",
    "        word_counts = Counter(words)\n",
    "        most_common = word_counts.most_common(num_of_words)\n",
    "        return most_common\n",
    "file_path = 'example.txt'\n",
    "most_frequent_words = find_most_frequent_words(file_path, 3)\n",
    "print(f'The most frequent word(s) in the file {file_path} are:')\n",
    "for word, count in most_frequent_words:\n",
    "    print(f'\"{word}\" - {count} occurrences')    "
   ]
  },
  {
   "cell_type": "markdown",
   "id": "f47d7acc-2a18-4aa2-8963-0cf71774fa7d",
   "metadata": {},
   "source": [
    "4) How can you use Python to count the number of rows in a CSV file?"
   ]
  },
  {
   "cell_type": "code",
   "execution_count": null,
   "id": "90fa8174-0c41-4617-b3f2-464d416d0aa9",
   "metadata": {},
   "outputs": [],
   "source": [
    "import csv\n",
    "\n",
    "filename = 'example.csv'\n",
    "with open(filename, 'r') as file:\n",
    "    csv_reader = csv.reader(file)\n",
    "    num_rows = len(list(csv_reader))\n",
    "\n",
    "print(f'The file \"{filename}\" has {num_rows} rows.')"
   ]
  },
  {
   "cell_type": "markdown",
   "id": "b1c33afa-645d-4639-a89c-5ea9ca48a102",
   "metadata": {},
   "source": [
    "5) How can you use Python to calculate the average of a specific column in a CSV file?"
   ]
  },
  {
   "cell_type": "code",
   "execution_count": null,
   "id": "1bc0f252-7868-4130-a432-3c9b4789f75b",
   "metadata": {},
   "outputs": [],
   "source": [
    "import csv\n",
    "import statistics\n",
    "\n",
    "filename = 'example.csv'\n",
    "column_name = 'column_name'\n",
    "\n",
    "with open(filename, 'r') as file:\n",
    "    csv_reader = csv.DictReader(file)\n",
    "\n",
    "    column_values = [float(row[column_name]) for row in csv_reader]\n",
    "    average = statistics.mean(column_values)\n",
    "\n",
    "print(f'The average of the \"{column_name}\" column is: {average:.2f}')"
   ]
  },
  {
   "cell_type": "markdown",
   "id": "5649f2a3-a959-4be1-a087-8b9cdae91b6d",
   "metadata": {},
   "source": [
    "6) Write a Python program to read a JSON file and print out the value of a specified key."
   ]
  },
  {
   "cell_type": "code",
   "execution_count": null,
   "id": "9474926e-2ce1-4a4e-8721-606b22707059",
   "metadata": {},
   "outputs": [],
   "source": [
    "import json\n",
    "\n",
    "filename = 'example.json'\n",
    "key = 'key_name'\n",
    "\n",
    "with open(filename, 'r') as file:\n",
    "    \n",
    "    data = json.load(file)\n",
    "    value = data[key]\n",
    "\n",
    "print(f'The value of the \"{key}\" key is: {value}')"
   ]
  },
  {
   "cell_type": "markdown",
   "id": "eee2a77f-7601-43cc-8ac2-8ec889a9dada",
   "metadata": {},
   "source": [
    "7) Can you provide a Python code snippet to write a list of strings into a text file where each string is\n",
    "written on a new line?"
   ]
  },
  {
   "cell_type": "code",
   "execution_count": null,
   "id": "734faa4b-61cd-41fc-9410-68439a8e6c16",
   "metadata": {},
   "outputs": [],
   "source": [
    "strings = ['string 1', 'string 2', 'string 3']\n",
    "filename = 'output.txt'\n",
    "\n",
    "with open(filename, 'w') as file:\n",
    "    for string in strings:\n",
    "        file.write(string + '\\n')"
   ]
  },
  {
   "cell_type": "markdown",
   "id": "5e0bf7e0-e162-498a-8da5-cb077fb83ad4",
   "metadata": {},
   "source": [
    "8) Can you provide a Python code to read a binary file and display the data in hexadecimal format."
   ]
  },
  {
   "cell_type": "code",
   "execution_count": null,
   "id": "b7bd5eb3-c67b-48aa-8c64-2b71a7e44c04",
   "metadata": {},
   "outputs": [],
   "source": [
    "filename = 'example.bin'\n",
    "\n",
    "with open(filename, 'rb') as file:\n",
    "    data = file.read()\n",
    "hex_data = ' '.join([hex(byte)[2:].zfill(2) for byte in data])\n",
    "\n",
    "print(hex_data)"
   ]
  },
  {
   "cell_type": "markdown",
   "id": "40fe4d65-45e6-48fc-a7b1-431a1896947c",
   "metadata": {},
   "source": [
    "9) Can you write a Python code to read a Comma-Separated Values (CSV) file, apply a specific condition\n",
    "to each row, and create a new CSV file that contains only the rows that satisfy the condition? For example,\n",
    "if the CSV file contains information about products and their prices, you may want to create a new CSV\n",
    "file that only includes the products that are within a certain price range. The program should be able to\n",
    "read the CSV file, compare the values in each row to the specified condition, and write the rows that meet\n",
    "the criteria to a new CSV file."
   ]
  },
  {
   "cell_type": "code",
   "execution_count": null,
   "id": "e46ade5a-f8c2-49ce-8b06-2aac538ec34a",
   "metadata": {},
   "outputs": [],
   "source": [
    "import csv\n",
    "\n",
    "input_file = 'input.csv'\n",
    "output_file = 'output.csv'\n",
    "condition = lambda row: float(row['Price']) <= 10.0\n",
    "\n",
    "with open(input_file, 'r', newline='') as in_file, open(output_file, 'w', newline='') as out_file:\n",
    "    reader = csv.DictReader(in_file)\n",
    "    writer = csv.DictWriter(out_file, fieldnames=reader.fieldnames)\n",
    "    writer.writeheader()\n",
    "\n",
    "    for row in reader:\n",
    "        if condition(row):\n",
    "            writer.writerow(row)"
   ]
  },
  {
   "cell_type": "markdown",
   "id": "43ef9ab8-e156-4b1e-b0c6-2eb533423c46",
   "metadata": {},
   "source": [
    "10) Write a Python program to read a text file, count the frequency of each word, and write the results to\n",
    "a new text file."
   ]
  },
  {
   "cell_type": "code",
   "execution_count": null,
   "id": "405944d0-dac3-42c4-bcad-35a3ea42570c",
   "metadata": {},
   "outputs": [],
   "source": [
    "import string\n",
    "\n",
    "input_file = 'input.txt'\n",
    "output_file = 'output.txt'\n",
    "word_counts = {}\n",
    "\n",
    "with open(input_file, 'r') as f:\n",
    "    for line in f:\n",
    "        line = line.translate(str.maketrans('', '', string.punctuation))\n",
    "        line = line.lower()\n",
    "\n",
    "        for word in line.split():\n",
    "            if word not in word_counts:\n",
    "                word_counts[word] = 1\n",
    "            else:\n",
    "                word_counts[word] += 1\n",
    "with open(output_file, 'w') as f:\n",
    "    for word, count in word_counts.items():\n",
    "        f.write(f'{word}: {count}\\n')\n"
   ]
  }
 ],
 "metadata": {
  "kernelspec": {
   "display_name": "Python 3 (ipykernel)",
   "language": "python",
   "name": "python3"
  },
  "language_info": {
   "codemirror_mode": {
    "name": "ipython",
    "version": 3
   },
   "file_extension": ".py",
   "mimetype": "text/x-python",
   "name": "python",
   "nbconvert_exporter": "python",
   "pygments_lexer": "ipython3",
   "version": "3.10.8"
  }
 },
 "nbformat": 4,
 "nbformat_minor": 5
}
